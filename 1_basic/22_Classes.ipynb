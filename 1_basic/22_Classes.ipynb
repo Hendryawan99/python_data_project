{
 "cells": [
  {
   "cell_type": "code",
   "execution_count": 12,
   "id": "75e348da",
   "metadata": {},
   "outputs": [
    {
     "name": "stdout",
     "output_type": "stream",
     "text": [
      "Pak Budi memiliki kucing, berikut daftarnya:\n",
      "ojoy, abu-abu, 2 Tahun\n",
      "bacil, coklat, 1 Tahun\n",
      "maksut, belang, 3 Tahun\n",
      "kecil-badan, putih-coklat, 3 Tahun\n"
     ]
    }
   ],
   "source": [
    "class KucingKampung:\n",
    "    def __init__(self, nama, warna, umur):\n",
    "        self.nama = nama\n",
    "        self.warna = warna\n",
    "        self.umur = umur\n",
    "    \n",
    "    def perkenalan(self):\n",
    "        print(f'{self.nama}, {self.warna}, {self.umur} Tahun')\n",
    "\n",
    "k1 = KucingKampung('ojoy', 'abu-abu', 2)\n",
    "k2 = KucingKampung('bacil', 'coklat', 1)\n",
    "k3 = KucingKampung('maksut', 'belang', 3)\n",
    "k4 = KucingKampung('kecil-badan', 'putih-coklat', 3)\n",
    "\n",
    "class MajikanKucing:\n",
    "    def __init__(self, nama, umur, gender, daftar_kucing=None):\n",
    "        self.nama = nama\n",
    "        self.umur = umur\n",
    "        self.gender = gender\n",
    "        # Kalau tidak ada daftar_kucing, buat list kosong\n",
    "        if daftar_kucing is None:\n",
    "            self.daftar_kucing = []\n",
    "        else:\n",
    "            self.daftar_kucing = daftar_kucing\n",
    "\n",
    "    def perlihatkan_kucing(self):\n",
    "        if not self.daftar_kucing:  # Cek apakah list kosong atau None\n",
    "            print(f\"{self.nama} tidak memiliki kucing.\")\n",
    "        else:\n",
    "            print(f\"{self.nama} memiliki kucing, berikut daftarnya:\")\n",
    "        for kucing in self.daftar_kucing:\n",
    "            kucing.perkenalan()\n",
    "\n",
    "\n",
    "majikan = MajikanKucing('Pak Budi', 45, 'Laki-laki', daftar_kucing=[k1, k2, k3, k4])\n",
    "majikan.perlihatkan_kucing()\n"
   ]
  }
 ],
 "metadata": {
  "kernelspec": {
   "display_name": "Python 3",
   "language": "python",
   "name": "python3"
  },
  "language_info": {
   "codemirror_mode": {
    "name": "ipython",
    "version": 3
   },
   "file_extension": ".py",
   "mimetype": "text/x-python",
   "name": "python",
   "nbconvert_exporter": "python",
   "pygments_lexer": "ipython3",
   "version": "3.11.8"
  }
 },
 "nbformat": 4,
 "nbformat_minor": 5
}
