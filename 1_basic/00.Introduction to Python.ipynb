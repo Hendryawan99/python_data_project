{
 "cells": [
  {
   "cell_type": "markdown",
   "metadata": {
    "id": "yaI4_pHh_JZX"
   },
   "source": [
    "## `Pastikan klik 'File > Save a copy in Drive' sebelum memulai pengerjaan`"
   ]
  },
  {
   "cell_type": "markdown",
   "metadata": {
    "id": "QE_83sYkbOn7"
   },
   "source": [
    "# Menulis Kode Python Pertamamu\n",
    "\n",
    "## Tujuan\n",
    "\n",
    "Setelah menyelesaikan lab ini, kamu akan mampu untuk:\n",
    "\n",
    "*   Menulis kode dasar Pyhton\n",
    "*   Bekerja dengan berbagai tipe objek di Pyhton\n",
    "*   Mengonversi tipe objek ke tipe objek lainnya\n",
    "*   Menggunakan ekspresi dan variable untuk melakukan operasi perhitungan\n",
    "*   Koleksi Data\n"
   ]
  },
  {
   "cell_type": "markdown",
   "metadata": {
    "id": "_urLctMGbOoE"
   },
   "source": [
    "# Daftar Isi\n",
    "\n",
    "Katakan \"Halo\" dunia pada Pyhton\n",
    "* Pyhton versi berapa yang anda gunakan?\n",
    "* Menuliskan komen di Pyhton?\n",
    "* Kesalahan dalam Python\n",
    "* Apakah Pyhton tahu kesalahan yang kamu lakukan sebelum menjalankan kode?\n",
    "* Latihan: Program pertamamu di Pyhton\n",
    "\n",
    "Tipe objek di Python\n",
    "* Integers\n",
    "* Floats\n",
    "* Mengonversi dari tipe object ke tipe data yang lain\n",
    "* Tipe data boolean\n",
    "- Latihan: Tipe-tipe data\n",
    "\n",
    "Ekspresi dan variable\n",
    "- Ekspresi\n",
    "- Latihian: Ekspresi\n",
    "- Variabel\n",
    "- Latihan: variabel\n",
    "\n",
    "Koleksi Data\n",
    "- List\n",
    "- Tuple\n",
    "- Set\n",
    "- Dictionary\n",
    "\n",
    "Mini Task"
   ]
  },
  {
   "cell_type": "markdown",
   "metadata": {
    "id": "KWA3jp-2bOoJ"
   },
   "source": [
    "# Katakan \"Halo\" dunia pada Pyhton\n"
   ]
  },
  {
   "cell_type": "markdown",
   "metadata": {
    "id": "Y_aOpdMVbOoK"
   },
   "source": [
    "Saat mempelajari bahasa pemrograman baru, biasanya dimulai dengan contoh \"hello world\". Sesederhana itu, satu baris kode ini akan memastikan bahwa kita tahu cara mencetak string dalam output dan cara mengeksekusi kode di dalam sel di notebook.\n"
   ]
  },
  {
   "cell_type": "markdown",
   "metadata": {
    "id": "Lvg5H89xbOoK"
   },
   "source": [
    "<hr/>\n",
    "<div class=\"alert alert-success alertsuccess\" style=\"margin-top: 20px\">\n",
    "[Tip]: Untuk mengeksekusi kode Python di sel kode di bawah ini, klik pada sel untuk memilihnya dan tekan <kbd>Shift</kbd> + <kbd>Enter</kbd>.\n",
    "</div>\n",
    "<hr/>\n"
   ]
  },
  {
   "cell_type": "code",
   "execution_count": null,
   "metadata": {
    "colab": {
     "base_uri": "https://localhost:8080/"
    },
    "executionInfo": {
     "elapsed": 5,
     "status": "ok",
     "timestamp": 1713961965034,
     "user": {
      "displayName": "Wijaya Putra",
      "userId": "02270621919654608290"
     },
     "user_tz": -540
    },
    "id": "vhIkGe6-bOoL",
    "outputId": "8ae9c1e3-14e2-40a6-ac33-3cee7e0fe735"
   },
   "outputs": [
    {
     "name": "stdout",
     "output_type": "stream",
     "text": [
      "Halo, Python!\n"
     ]
    }
   ],
   "source": [
    "# Coba hasilkan Python pertamamu\n",
    "\n",
    "print('Halo, Python!')"
   ]
  },
  {
   "cell_type": "markdown",
   "metadata": {
    "id": "MrN_8BI0bOoN"
   },
   "source": [
    "Setelah mengeksekusi sel di atas, kamu akan melihat bahwa Python mencetak <code>Halo, Python!</code>. Selamat menjalankan kode Python pertamamu!"
   ]
  },
  {
   "cell_type": "markdown",
   "metadata": {
    "id": "WnZZNiQWbOoN"
   },
   "source": [
    "<hr/>\n",
    "<div class=\"alert alert-success alertsuccess\" style=\"margin-top: 20px\">\n",
    "    [Tip:] <code>print()</code> adalah sebuah fungsi. Kamua memberikan string <code>'Halo, Python!'</code> sebagai argumen untuk menginstruksikan Python tentang apa yang harus dicetak.\n",
    "</div>\n",
    "<hr/>\n"
   ]
  },
  {
   "cell_type": "markdown",
   "metadata": {
    "id": "XxANuE0EbOoO"
   },
   "source": [
    "<h3 id=\"version\">Versi Python apa yang kita gunakan?</h3>\n"
   ]
  },
  {
   "cell_type": "markdown",
   "metadata": {
    "id": "5z4zRaltbOoO"
   },
   "source": [
    "<p>\n",
    "    Ada dua versi populer bahasa pemrograman Python yang digunakan saat ini: Python 2 dan Python 3. Komunitas Python telah memutuskan untuk beralih dari Python 2 ke Python 3, dan banyak perpustakaan populer telah mengumumkan bahwa mereka tidak lagi mendukung Python 2.\n",
    "</p>\n",
    "<p>\n",
    "    Karena Python 3 adalah masa depan, dalam kursus ini kita akan menggunakannya secara eksklusif. Bagaimana kita tahu bahwa notebook kita dieksekusi oleh runtime Python 3?\n",
    "</p>\n",
    "<p>\n",
    "    Kita bisa menanyakan Python secara langsung dan mendapatkan jawaban yang detail. Coba jalankan kode berikut:\n",
    "</p>\n"
   ]
  },
  {
   "cell_type": "code",
   "execution_count": null,
   "metadata": {
    "colab": {
     "base_uri": "https://localhost:8080/"
    },
    "executionInfo": {
     "elapsed": 4,
     "status": "ok",
     "timestamp": 1713961965035,
     "user": {
      "displayName": "Wijaya Putra",
      "userId": "02270621919654608290"
     },
     "user_tz": -540
    },
    "id": "L8Hry5dPbOoQ",
    "outputId": "111aa7d2-80b6-4b51-dace-710c98376125"
   },
   "outputs": [
    {
     "name": "stdout",
     "output_type": "stream",
     "text": [
      "3.10.12 (main, Nov 20 2023, 15:14:05) [GCC 11.4.0]\n"
     ]
    }
   ],
   "source": [
    "# Periksa Versi Python\n",
    "\n",
    "import sys\n",
    "print(sys.version)"
   ]
  },
  {
   "cell_type": "markdown",
   "metadata": {
    "id": "v_rW234lbOoQ"
   },
   "source": [
    "<hr/>\n",
    "<div class=\"alert alert-success alertsuccess\" style=\"margin-top: 20px\">\n",
    "    [Tip:] <code>sys</code> adalah modul bawaan yang berisi banyak parameter dan fungsi khusus terkait sistem, termasuk versi Python yang digunakan. Sebelum menggunakannya, kita harus secara eksplisit <code>import</code>.\n",
    "</div>\n",
    "<hr/>\n"
   ]
  },
  {
   "cell_type": "markdown",
   "metadata": {
    "id": "VvcpdE1bbOoR"
   },
   "source": [
    "<h3 id=\"comments\">Menulis komentar dengan Python</h3>\n"
   ]
  },
  {
   "cell_type": "markdown",
   "metadata": {
    "id": "DmXEBNKVbOoR"
   },
   "source": [
    "<p>\n",
    "    Selain menulis kode, perhatikan bahwa selalu ada baiknya menambahkan komentar ke kode Anda. Ini akan membantu orang lain memahami apa yang ingin Anda capai (alasan mengapa Anda menulis potongan kode tertentu). Hal ini tidak hanya membantu <strong>orang lain</strong> memahami kode Anda, tetapi juga berfungsi sebagai pengingat <strong>kepada Anda</strong> saat Anda kembali ke kode tersebut beberapa minggu atau bulan kemudian.</p>\n",
    "\n",
    "<p>\n",
    "    Untuk menulis komentar dengan Python, gunakan simbol angka <code>#</code> sebelum menulis komentar Anda. Saat Anda menjalankan kode Anda, Python akan mengabaikan semua yang melewati <code>#</code> pada baris tertentu.\n",
    "</p>\n"
   ]
  },
  {
   "cell_type": "code",
   "execution_count": 1,
   "metadata": {
    "colab": {
     "base_uri": "https://localhost:8080/"
    },
    "executionInfo": {
     "elapsed": 575,
     "status": "ok",
     "timestamp": 1733146089574,
     "user": {
      "displayName": "Wijaya Putra",
      "userId": "02270621919654608290"
     },
     "user_tz": -540
    },
    "id": "fQ1btBmsbOoS",
    "outputId": "0b354009-1636-4af7-a4a0-373344c3146d"
   },
   "outputs": [
    {
     "name": "stdout",
     "output_type": "stream",
     "text": [
      "Halo, Python!\n"
     ]
    }
   ],
   "source": [
    "# Latihan menulis komentar\n",
    "\n",
    "print('Halo, Python!') # Baris ini mencetak sebuah string (teks)\n",
    "# print('Hi')"
   ]
  },
  {
   "cell_type": "markdown",
   "metadata": {
    "id": "3J2e8rX2bOoS"
   },
   "source": [
    "<p>\n",
    "    Setelah mengeksekusi sel di atas, Anda harus memperhatikan bahwa <code>Baris ini mencetak string</code> tidak muncul di output, karena itu adalah komentar (dan dengan demikian diabaikan oleh Python).\n",
    "</p>\n",
    "<p>\n",
    "    Baris kedua juga tidak dieksekusi karena <code>print('Hi')</code> juga didahului dengan tanda angka (<code>#</code>)! Karena ini bukan komentar penjelasan dari pemrogram, tetapi baris kode yang sebenarnya, kita dapat mengatakan bahwa pemrogram <em>mengomentari</em> baris kode kedua itu.\n",
    "</p>"
   ]
  },
  {
   "cell_type": "markdown",
   "metadata": {
    "id": "IvG6yVJ9bOoS"
   },
   "source": [
    "<h3 id=\"errors\">Kesalahan dalam Python</h3>\n"
   ]
  },
  {
   "cell_type": "markdown",
   "metadata": {
    "id": "Nm-hgNsKbOoT"
   },
   "source": [
    "<p>Setiap orang membuat kesalahan. Untuk banyak jenis kesalahan, Python akan memberi tahu Anda bahwa Anda telah melakukan kesalahan dengan memberi Anda pesan kesalahan. Penting untuk membaca pesan kesalahan dengan hati-hati untuk benar-benar memahami di mana Anda membuat kesalahan dan bagaimana cara memperbaikinya.</p>\n",
    "<p>Misalnya, jika Anda mengeja <code>print</code> sebagai <code>frint</code>, Python akan menampilkan pesan kesalahan. Cobalah:</p>\n"
   ]
  },
  {
   "cell_type": "code",
   "execution_count": 2,
   "metadata": {
    "colab": {
     "base_uri": "https://localhost:8080/",
     "height": 182
    },
    "executionInfo": {
     "elapsed": 398,
     "status": "error",
     "timestamp": 1733146170922,
     "user": {
      "displayName": "Wijaya Putra",
      "userId": "02270621919654608290"
     },
     "user_tz": -540
    },
    "id": "o_1VReTUbOoT",
    "outputId": "ea7d59f8-6f8e-4877-f4bb-66500240257e"
   },
   "outputs": [
    {
     "ename": "NameError",
     "evalue": "name 'frint' is not defined",
     "output_type": "error",
     "traceback": [
      "\u001b[0;31m---------------------------------------------------------------------------\u001b[0m",
      "\u001b[0;31mNameError\u001b[0m                                 Traceback (most recent call last)",
      "\u001b[0;32m<ipython-input-2-7d6afd9ccba4>\u001b[0m in \u001b[0;36m<cell line: 3>\u001b[0;34m()\u001b[0m\n\u001b[1;32m      1\u001b[0m \u001b[0;31m# Cetak string sebagai pesan kesalahan\u001b[0m\u001b[0;34m\u001b[0m\u001b[0;34m\u001b[0m\u001b[0m\n\u001b[1;32m      2\u001b[0m \u001b[0;34m\u001b[0m\u001b[0m\n\u001b[0;32m----> 3\u001b[0;31m \u001b[0mfrint\u001b[0m\u001b[0;34m(\u001b[0m\u001b[0;34m\"Hello, Python!\"\u001b[0m\u001b[0;34m)\u001b[0m\u001b[0;34m\u001b[0m\u001b[0;34m\u001b[0m\u001b[0m\n\u001b[0m",
      "\u001b[0;31mNameError\u001b[0m: name 'frint' is not defined"
     ]
    }
   ],
   "source": [
    "# Cetak string sebagai pesan kesalahan\n",
    "\n",
    "frint(\"Hello, Python!\")"
   ]
  },
  {
   "cell_type": "markdown",
   "metadata": {
    "id": "4NiR3jW3bOoT"
   },
   "source": [
    "<p>Pesan kesalahan memberi tahu Anda:\n",
    "<ol>\n",
    "    <li>di mana kesalahan terjadi (lebih berguna di sel atau skrip notebook besar), dan</li>\n",
    "    <li>kesalahan seperti apa itu (NameError)</li>\n",
    "</ol>\n",
    "<p>Di sini, Python mencoba menjalankan fungsi <code>frint</code>, tetapi tidak dapat menentukan apa itu <code>frint</code> karena ini bukan fungsi bawaan dan belum ditentukan sebelumnya oleh kami juga.</p>"
   ]
  },
  {
   "cell_type": "markdown",
   "metadata": {
    "id": "KR6wRQcgbOoT"
   },
   "source": [
    "<p>\n",
    "    Anda akan melihat bahwa jika kita membuat jenis kesalahan yang berbeda, dengan lupa menutup string, kita akan mendapatkan kesalahan yang berbeda (yaitu <code>SyntaxError</code>). Coba di bawah ini:\n",
    "</p>"
   ]
  },
  {
   "cell_type": "code",
   "execution_count": 6,
   "metadata": {
    "colab": {
     "base_uri": "https://localhost:8080/"
    },
    "executionInfo": {
     "elapsed": 395,
     "status": "ok",
     "timestamp": 1733146497287,
     "user": {
      "displayName": "Wijaya Putra",
      "userId": "02270621919654608290"
     },
     "user_tz": -540
    },
    "id": "qUqisGtdbOoU",
    "outputId": "10dc96fb-0d04-45f6-c4c6-46f1fb38e7bc"
   },
   "outputs": [
    {
     "name": "stdout",
     "output_type": "stream",
     "text": [
      "Halo, Python\"s!\n"
     ]
    }
   ],
   "source": [
    "# Coba lihat pesan kesalahan bawaan\n",
    "\n",
    "print('Halo, Python\"s!')"
   ]
  },
  {
   "cell_type": "markdown",
   "metadata": {
    "id": "wOxbZpLEbOoU"
   },
   "source": [
    "<h3 id=\"python_error\">Apakah Python mengetahui kesalahanmu sebelum menjalankan kode Anda?</h3>\n"
   ]
  },
  {
   "cell_type": "markdown",
   "metadata": {
    "id": "5kR5sk37bOoU"
   },
   "source": [
    "Python adalah apa yang disebut <em>bahasa yang ditafsirkan</em>. Bahasa yang dikompilasi memeriksa seluruh program Anda pada waktu kompilasi, dan dapat memperingatkan Anda tentang seluruh kelas kesalahan sebelum dieksekusi. Sebaliknya, Python menginterpretasikan skrip Anda baris demi baris saat mengeksekusinya. Python akan berhenti menjalankan seluruh program ketika menemui kesalahan (kecuali kesalahan diharapkan dan ditangani oleh programmer)."
   ]
  },
  {
   "cell_type": "markdown",
   "metadata": {
    "id": "0gi_ThXYbOoU"
   },
   "source": [
    "Coba jalankan kode di sel di bawah ini dan lihat apa yang terjadi:\n"
   ]
  },
  {
   "cell_type": "code",
   "execution_count": 7,
   "metadata": {
    "colab": {
     "base_uri": "https://localhost:8080/",
     "height": 219
    },
    "executionInfo": {
     "elapsed": 371,
     "status": "error",
     "timestamp": 1733146612666,
     "user": {
      "displayName": "Wijaya Putra",
      "userId": "02270621919654608290"
     },
     "user_tz": -540
    },
    "id": "kzBbBphwbOoU",
    "outputId": "1a28f81f-ab5e-478f-c99b-7c3c654dee99"
   },
   "outputs": [
    {
     "name": "stdout",
     "output_type": "stream",
     "text": [
      "This will be printed\n"
     ]
    },
    {
     "ename": "NameError",
     "evalue": "name 'frint' is not defined",
     "output_type": "error",
     "traceback": [
      "\u001b[0;31m---------------------------------------------------------------------------\u001b[0m",
      "\u001b[0;31mNameError\u001b[0m                                 Traceback (most recent call last)",
      "\u001b[0;32m<ipython-input-7-d065262f1b4b>\u001b[0m in \u001b[0;36m<cell line: 4>\u001b[0;34m()\u001b[0m\n\u001b[1;32m      2\u001b[0m \u001b[0;34m\u001b[0m\u001b[0m\n\u001b[1;32m      3\u001b[0m \u001b[0mprint\u001b[0m\u001b[0;34m(\u001b[0m\u001b[0;34m\"This will be printed\"\u001b[0m\u001b[0;34m)\u001b[0m\u001b[0;34m\u001b[0m\u001b[0;34m\u001b[0m\u001b[0m\n\u001b[0;32m----> 4\u001b[0;31m \u001b[0mfrint\u001b[0m\u001b[0;34m(\u001b[0m\u001b[0;34m\"This will cause an error\"\u001b[0m\u001b[0;34m)\u001b[0m\u001b[0;34m\u001b[0m\u001b[0;34m\u001b[0m\u001b[0m\n\u001b[0m\u001b[1;32m      5\u001b[0m \u001b[0mprint\u001b[0m\u001b[0;34m(\u001b[0m\u001b[0;34m\"This will NOT be printed\"\u001b[0m\u001b[0;34m)\u001b[0m\u001b[0;34m\u001b[0m\u001b[0;34m\u001b[0m\u001b[0m\n",
      "\u001b[0;31mNameError\u001b[0m: name 'frint' is not defined"
     ]
    }
   ],
   "source": [
    "# Cetak string dan error untuk melihat urutan yang sedang berjalan (CTRL + /)\n",
    "\n",
    "print(\"This will be printed\")\n",
    "frint(\"This will cause an error\")\n",
    "print(\"This will NOT be printed\")"
   ]
  },
  {
   "cell_type": "markdown",
   "metadata": {
    "id": "2BzzQ5KVbOoV"
   },
   "source": [
    "<h3 id=\"exercise\">Latihan: Program Pertama Anda</h3>\n"
   ]
  },
  {
   "cell_type": "markdown",
   "metadata": {
    "id": "EdvqYtQNbOoV"
   },
   "source": [
    "<p>Generasi pemrogram telah memulai karier pengkodean mereka hanya dengan mencetak \"Hello world!\". Anda akan mengikuti jejak mereka.</p>\n",
    "<p>Dalam sel kode di bawah, gunakan fungsi <code>print()</code> untuk mencetak frasa: <code>Hello world!</code></p>\n"
   ]
  },
  {
   "cell_type": "code",
   "execution_count": 1,
   "metadata": {
    "colab": {
     "base_uri": "https://localhost:8080/",
     "height": 110
    },
    "executionInfo": {
     "elapsed": 393,
     "status": "error",
     "timestamp": 1733146924839,
     "user": {
      "displayName": "Wijaya Putra",
      "userId": "02270621919654608290"
     },
     "user_tz": -540
    },
    "id": "1anp0w5obOoV",
    "outputId": "040b3335-9d92-423f-f928-29cf66102ba0"
   },
   "outputs": [
    {
     "name": "stdout",
     "output_type": "stream",
     "text": [
      "Hello World!\n"
     ]
    }
   ],
   "source": [
    "# Tulis kode Anda di bawah ini. Jangan lupa tekan Shift+Enter untuk mengeksekusi sel\n",
    "print(\"Hello World!\")"
   ]
  },
  {
   "cell_type": "markdown",
   "metadata": {
    "id": "5iyX9AvQbOoV"
   },
   "source": [
    "<details><summary>Klik di sini untuk solusinya</summary>\n",
    "\n",
    "```python\n",
    "print(\"Hello world!\")\n",
    "\n",
    "```\n",
    "\n",
    "</details>\n"
   ]
  },
  {
   "cell_type": "markdown",
   "metadata": {
    "id": "MSVl91BIbOoW"
   },
   "source": [
    "<p>Sekarang, mari tingkatkan kode Anda dengan komentar. Di sel kode di bawah ini, cetak frasa: <code>Hello world!</code> dan beri komentar dengan frasa <code>Cetak halo dunia</code> semuanya dalam satu baris kode.</p >"
   ]
  },
  {
   "cell_type": "code",
   "execution_count": 5,
   "metadata": {
    "id": "pBy-8GDHbOoW"
   },
   "outputs": [
    {
     "name": "stdout",
     "output_type": "stream",
     "text": [
      "Hello World!\n"
     ]
    }
   ],
   "source": [
    "# Tulis kode Anda di bawah ini. Jangan lupa tekan Shift+Enter untuk mengeksekusi sel\n",
    "print(\"Hello World!\")"
   ]
  },
  {
   "cell_type": "markdown",
   "metadata": {
    "id": "epTWDhfabOoW"
   },
   "source": [
    "<details><summary>Klik di sini untuk solusinya</summary>\n",
    "\n",
    "```python\n",
    "print(\"Hello world!\") # Cetak halo dunia\n",
    "\n",
    "```\n",
    "\n",
    "</details>\n"
   ]
  },
  {
   "cell_type": "markdown",
   "metadata": {
    "id": "1qXxZrFdbOoW"
   },
   "source": [
    "<hr>\n"
   ]
  },
  {
   "cell_type": "markdown",
   "metadata": {
    "id": "Fx6vcvW0bOoW"
   },
   "source": [
    "<h2 id=\"types_objects\" align=\"center\">Tipe objek di Python</h2>\n"
   ]
  },
  {
   "cell_type": "markdown",
   "metadata": {
    "id": "KL1TtlwKbOoX"
   },
   "source": [
    "<p>Python adalah bahasa berorientasi objek. Ada banyak jenis objek di Python. Mari kita mulai dengan jenis objek yang paling umum: <i>string</i> (teks), <i>integer</i> (bilangan bulat) dan <i>float</i> (bilangan real). Setiap kali Anda menulis kata (teks) dengan Python, Anda menggunakan <i>string</i> (disingkat str). Sebaliknya, angka yang paling umum adalah <i>integer</i> (disingkat int, mis. -1, 0, 100) dan <i>float</i> (tidak disingkat), yang mewakili bilangan real (mis. 3.14, -42.0). </p>"
   ]
  },
  {
   "cell_type": "markdown",
   "metadata": {
    "id": "7M92mDoWbOoX"
   },
   "source": [
    "<a align=\"center\">\n",
    "    <img src=\"https://cf-courses-data.s3.us.cloud-object-storage.appdomain.cloud/IBMDeveloperSkillsNetwork-PY0101EN-SkillsNetwork/labs/Module%201/images/TypesObjects.png\" width=\"600\">\n",
    "</a>\n"
   ]
  },
  {
   "cell_type": "markdown",
   "metadata": {
    "id": "O9zfzkH4bOoX"
   },
   "source": [
    "<p>Sel kode berikut berisi beberapa contoh.</p>"
   ]
  },
  {
   "cell_type": "code",
   "execution_count": 11,
   "metadata": {
    "colab": {
     "base_uri": "https://localhost:8080/"
    },
    "executionInfo": {
     "elapsed": 372,
     "status": "ok",
     "timestamp": 1733147013673,
     "user": {
      "displayName": "Wijaya Putra",
      "userId": "02270621919654608290"
     },
     "user_tz": -540
    },
    "id": "2qCDRcRqbOoX",
    "outputId": "a679b315-32be-4e32-e87a-5367a4f1e545"
   },
   "outputs": [
    {
     "data": {
      "text/plain": [
       "11"
      ]
     },
     "execution_count": 11,
     "metadata": {},
     "output_type": "execute_result"
    }
   ],
   "source": [
    "# Integer\n",
    "\n",
    "11"
   ]
  },
  {
   "cell_type": "code",
   "execution_count": 12,
   "metadata": {
    "colab": {
     "base_uri": "https://localhost:8080/"
    },
    "executionInfo": {
     "elapsed": 348,
     "status": "ok",
     "timestamp": 1733147017054,
     "user": {
      "displayName": "Wijaya Putra",
      "userId": "02270621919654608290"
     },
     "user_tz": -540
    },
    "id": "LPl3cRGXbOoY",
    "outputId": "b8a6bb36-766d-4be4-bc89-d05eeb55ee1a"
   },
   "outputs": [
    {
     "data": {
      "text/plain": [
       "2.14"
      ]
     },
     "execution_count": 12,
     "metadata": {},
     "output_type": "execute_result"
    }
   ],
   "source": [
    "# Float\n",
    "\n",
    "2.14"
   ]
  },
  {
   "cell_type": "code",
   "execution_count": 13,
   "metadata": {
    "colab": {
     "base_uri": "https://localhost:8080/",
     "height": 36
    },
    "executionInfo": {
     "elapsed": 586,
     "status": "ok",
     "timestamp": 1733147023090,
     "user": {
      "displayName": "Wijaya Putra",
      "userId": "02270621919654608290"
     },
     "user_tz": -540
    },
    "id": "iNs1btQXbOoY",
    "outputId": "35f614cf-cf9e-4ba8-ef6c-8cfc35e6fa84"
   },
   "outputs": [
    {
     "data": {
      "application/vnd.google.colaboratory.intrinsic+json": {
       "type": "string"
      },
      "text/plain": [
       "'Hello Python 101!'"
      ]
     },
     "execution_count": 13,
     "metadata": {},
     "output_type": "execute_result"
    }
   ],
   "source": [
    "# String\n",
    "\n",
    "\"Hello Python 101!\""
   ]
  },
  {
   "cell_type": "markdown",
   "metadata": {
    "id": "pdtd5lSFbOoZ"
   },
   "source": [
    "<p>Anda bisa membuat Python memberi tahu tipe objek dengan menggunakan fungsi <code>type()</code> bawaan. Anda akan melihat bahwa Python merujuk integer sebagai <code>int</code>, float sebagai <code>float</code>, dan string karakter sebagai <code>str</code>.</p>\n"
   ]
  },
  {
   "cell_type": "code",
   "execution_count": null,
   "metadata": {
    "colab": {
     "base_uri": "https://localhost:8080/"
    },
    "executionInfo": {
     "elapsed": 375,
     "status": "ok",
     "timestamp": 1733147034579,
     "user": {
      "displayName": "Wijaya Putra",
      "userId": "02270621919654608290"
     },
     "user_tz": -540
    },
    "id": "djz9_s_PbOoZ",
    "outputId": "d8ef3432-1a46-4600-a1b3-aafba4811d0f"
   },
   "outputs": [
    {
     "name": "stdout",
     "output_type": "stream",
     "text": [
      "<class 'int'>\n"
     ]
    }
   ],
   "source": [
    "# Tipe 12\n",
    "\n",
    "type(12)\n",
    "type('aan')"
   ]
  },
  {
   "cell_type": "code",
   "execution_count": 15,
   "metadata": {
    "colab": {
     "base_uri": "https://localhost:8080/"
    },
    "executionInfo": {
     "elapsed": 385,
     "status": "ok",
     "timestamp": 1733147046900,
     "user": {
      "displayName": "Wijaya Putra",
      "userId": "02270621919654608290"
     },
     "user_tz": -540
    },
    "id": "OG0_D2SMbOoZ",
    "outputId": "7b8d94f6-a7ed-40e4-a659-15169b92882a"
   },
   "outputs": [
    {
     "data": {
      "text/plain": [
       "float"
      ]
     },
     "execution_count": 15,
     "metadata": {},
     "output_type": "execute_result"
    }
   ],
   "source": [
    "# Tipe 2.14\n",
    "\n",
    "type(2.14)"
   ]
  },
  {
   "cell_type": "code",
   "execution_count": 16,
   "metadata": {
    "colab": {
     "base_uri": "https://localhost:8080/"
    },
    "executionInfo": {
     "elapsed": 374,
     "status": "ok",
     "timestamp": 1733147049389,
     "user": {
      "displayName": "Wijaya Putra",
      "userId": "02270621919654608290"
     },
     "user_tz": -540
    },
    "id": "pct13zMdbOoa",
    "outputId": "d476076a-6435-4d17-d730-eddec80369ea"
   },
   "outputs": [
    {
     "data": {
      "text/plain": [
       "str"
      ]
     },
     "execution_count": 16,
     "metadata": {},
     "output_type": "execute_result"
    }
   ],
   "source": [
    "# Tipe \"Hello, Python 101!\"\n",
    "\n",
    "type(\"Hello, Python 101!\")"
   ]
  },
  {
   "cell_type": "markdown",
   "metadata": {
    "id": "dQjcxow6bOoa"
   },
   "source": [
    "<p>Dalam sel kode di bawah, gunakan fungsi <code>type()</code> untuk memeriksa tipe objek <code>12.0</code>."
   ]
  },
  {
   "cell_type": "code",
   "execution_count": 10,
   "metadata": {
    "id": "GOfw827JbOoa"
   },
   "outputs": [
    {
     "data": {
      "text/plain": [
       "float"
      ]
     },
     "execution_count": 10,
     "metadata": {},
     "output_type": "execute_result"
    }
   ],
   "source": [
    "# Tulis kode Anda di bawah ini. Jangan lupa tekan Shift+Enter untuk mengeksekusi sel\n",
    "type(12.0)"
   ]
  },
  {
   "cell_type": "markdown",
   "metadata": {
    "id": "TKUzCxUibOoa"
   },
   "source": [
    "<details><summary>Klik di sini untuk solusinya</summary>\n",
    "\n",
    "```python\n",
    "type(12.0)\n",
    "\n",
    "```\n",
    "\n",
    "</details>\n"
   ]
  },
  {
   "cell_type": "markdown",
   "metadata": {
    "id": "iY7nWB6pbOob"
   },
   "source": [
    "<h3 id=\"int\" align=\"center\">Integer (bilangan bulat)</h3>\n"
   ]
  },
  {
   "cell_type": "markdown",
   "metadata": {
    "id": "lSfIs071bOob"
   },
   "source": [
    "<p>Berikut adalah beberapa contoh integer. Bilangan bulat dapat berupa bilangan negatif atau positif:</p>"
   ]
  },
  {
   "cell_type": "markdown",
   "metadata": {
    "id": "Kdgzs9dLbOob"
   },
   "source": [
    "<a align=\"center\">\n",
    "    <img src=\"https://cf-courses-data.s3.us.cloud-object-storage.appdomain.cloud/IBMDeveloperSkillsNetwork-PY0101EN-SkillsNetwork/labs/Module%201/images/TypesInt.png\" width=\"600\">\n",
    "</a>\n"
   ]
  },
  {
   "cell_type": "markdown",
   "metadata": {
    "id": "Yx4LEBaTbOob"
   },
   "source": [
    "<p>Kita dapat memverifikasi hal ini dengan menggunakan? Anda dapat menebaknya, yaitu dengan fungsi <code>type()</code>:\n"
   ]
  },
  {
   "cell_type": "code",
   "execution_count": 17,
   "metadata": {
    "colab": {
     "base_uri": "https://localhost:8080/"
    },
    "executionInfo": {
     "elapsed": 380,
     "status": "ok",
     "timestamp": 1733147144236,
     "user": {
      "displayName": "Wijaya Putra",
      "userId": "02270621919654608290"
     },
     "user_tz": -540
    },
    "id": "nVEMC00HbOob",
    "outputId": "33105ec2-77ed-4a89-f507-4647c73692ff"
   },
   "outputs": [
    {
     "data": {
      "text/plain": [
       "int"
      ]
     },
     "execution_count": 17,
     "metadata": {},
     "output_type": "execute_result"
    }
   ],
   "source": [
    "# Cetak tipe -1\n",
    "\n",
    "type(-1)"
   ]
  },
  {
   "cell_type": "code",
   "execution_count": 18,
   "metadata": {
    "colab": {
     "base_uri": "https://localhost:8080/"
    },
    "executionInfo": {
     "elapsed": 391,
     "status": "ok",
     "timestamp": 1733147147132,
     "user": {
      "displayName": "Wijaya Putra",
      "userId": "02270621919654608290"
     },
     "user_tz": -540
    },
    "id": "2P43zDSIbOoc",
    "outputId": "bd094052-56cd-4296-c14b-4608b6da90bf"
   },
   "outputs": [
    {
     "data": {
      "text/plain": [
       "float"
      ]
     },
     "execution_count": 18,
     "metadata": {},
     "output_type": "execute_result"
    }
   ],
   "source": [
    "# Cetak tipe 4\n",
    "\n",
    "type(4.0)"
   ]
  },
  {
   "cell_type": "code",
   "execution_count": 19,
   "metadata": {
    "colab": {
     "base_uri": "https://localhost:8080/"
    },
    "executionInfo": {
     "elapsed": 397,
     "status": "ok",
     "timestamp": 1733147174787,
     "user": {
      "displayName": "Wijaya Putra",
      "userId": "02270621919654608290"
     },
     "user_tz": -540
    },
    "id": "t04K4nYKbOoc",
    "outputId": "a6e3f559-5778-417a-9c21-7412f5586423"
   },
   "outputs": [
    {
     "data": {
      "text/plain": [
       "int"
      ]
     },
     "execution_count": 19,
     "metadata": {},
     "output_type": "execute_result"
    }
   ],
   "source": [
    "# Cetak tipe 0\n",
    "\n",
    "type(0)"
   ]
  },
  {
   "cell_type": "markdown",
   "metadata": {
    "id": "y6Ws-hCmbOoc"
   },
   "source": [
    "<h3 id=\"float\" align=\"center\">Floats (bilangan real)</h3>\n"
   ]
  },
  {
   "cell_type": "markdown",
   "metadata": {
    "id": "C7F58EZLbOoc"
   },
   "source": [
    "<p>Float mewakili bilangan real. Mereka adalah superset dari integer tetapi juga termasuk \"angka dengan desimal\". Ada beberapa batasan saat Python merepresentasikan float. Anda dapat mempelajari lebih lanjut tentang spesifikasi float pada runtime dengan memeriksa nilai <code>sys.float_info</code>. Ini juga akan memberi tahu berapa angka terbesar dan terkecil yang dapat direpresentasikan</p>\n",
    "\n",
    "<p>Sekali lagi, kita menguji beberapa contoh dengan fungsi <code>type()</code>:"
   ]
  },
  {
   "cell_type": "code",
   "execution_count": 20,
   "metadata": {
    "colab": {
     "base_uri": "https://localhost:8080/"
    },
    "executionInfo": {
     "elapsed": 372,
     "status": "ok",
     "timestamp": 1733147182612,
     "user": {
      "displayName": "Wijaya Putra",
      "userId": "02270621919654608290"
     },
     "user_tz": -540
    },
    "id": "YD8DHOeVbOod",
    "outputId": "e2c9228f-b94a-4ae0-8723-f03483ceab3f"
   },
   "outputs": [
    {
     "data": {
      "text/plain": [
       "float"
      ]
     },
     "execution_count": 20,
     "metadata": {},
     "output_type": "execute_result"
    }
   ],
   "source": [
    "# Cetak tipe 1.0\n",
    "\n",
    "type(1.0) # Perhatikan bahwa 1 adalah int, dan 1.0 adalah float"
   ]
  },
  {
   "cell_type": "code",
   "execution_count": 21,
   "metadata": {
    "colab": {
     "base_uri": "https://localhost:8080/"
    },
    "executionInfo": {
     "elapsed": 435,
     "status": "ok",
     "timestamp": 1733147186451,
     "user": {
      "displayName": "Wijaya Putra",
      "userId": "02270621919654608290"
     },
     "user_tz": -540
    },
    "id": "oW0-vLUZbOod",
    "outputId": "f3bf86e8-70c6-4261-b370-82eccba01f31"
   },
   "outputs": [
    {
     "data": {
      "text/plain": [
       "float"
      ]
     },
     "execution_count": 21,
     "metadata": {},
     "output_type": "execute_result"
    }
   ],
   "source": [
    "# Cetak tipe 0.5\n",
    "\n",
    "type(0.5)"
   ]
  },
  {
   "cell_type": "code",
   "execution_count": 22,
   "metadata": {
    "colab": {
     "base_uri": "https://localhost:8080/"
    },
    "executionInfo": {
     "elapsed": 379,
     "status": "ok",
     "timestamp": 1733147188897,
     "user": {
      "displayName": "Wijaya Putra",
      "userId": "02270621919654608290"
     },
     "user_tz": -540
    },
    "id": "OnH0pgn8bOod",
    "outputId": "fc6834f6-67e8-408b-ccf9-bb559835f349"
   },
   "outputs": [
    {
     "data": {
      "text/plain": [
       "float"
      ]
     },
     "execution_count": 22,
     "metadata": {},
     "output_type": "execute_result"
    }
   ],
   "source": [
    "# Cetak tipe 0.56\n",
    "\n",
    "type(0.56)"
   ]
  },
  {
   "cell_type": "markdown",
   "metadata": {
    "id": "Kt2m1iDMbOoe"
   },
   "source": [
    "<h3 id=\"convert\" align=\"center\">Mengonversi dari satu jenis objek ke jenis objek lain</h3>"
   ]
  },
  {
   "cell_type": "markdown",
   "metadata": {
    "id": "rgOPOH00bOoe"
   },
   "source": [
    "Anda dapat mengubah jenis objek dalam Python. Ini disebut **typecasting**. Misalnya, Anda dapat mengonversi <i>integer</i> menjadi <i>float</i> (mis. 2 ke 2.0).\n",
    "<p>Mari kita coba:</p>"
   ]
  },
  {
   "cell_type": "code",
   "execution_count": 23,
   "metadata": {
    "colab": {
     "base_uri": "https://localhost:8080/"
    },
    "executionInfo": {
     "elapsed": 359,
     "status": "ok",
     "timestamp": 1733147232605,
     "user": {
      "displayName": "Wijaya Putra",
      "userId": "02270621919654608290"
     },
     "user_tz": -540
    },
    "id": "IpJU2j9CbOoe",
    "outputId": "6748b071-da68-4bf5-e375-07cf3db08c60"
   },
   "outputs": [
    {
     "data": {
      "text/plain": [
       "int"
      ]
     },
     "execution_count": 23,
     "metadata": {},
     "output_type": "execute_result"
    }
   ],
   "source": [
    "# Verifikasi bahwa ini adalah integer\n",
    "\n",
    "type(2)"
   ]
  },
  {
   "cell_type": "markdown",
   "metadata": {
    "id": "tq4K2jiIbOof"
   },
   "source": [
    "<h4>Mengonversi integer menjadi float</h4>\n",
    "<p>Mari kita mengonversi integer 2 menjadi float:</p>\n"
   ]
  },
  {
   "cell_type": "code",
   "execution_count": 24,
   "metadata": {
    "colab": {
     "base_uri": "https://localhost:8080/"
    },
    "executionInfo": {
     "elapsed": 5,
     "status": "ok",
     "timestamp": 1733147265699,
     "user": {
      "displayName": "Wijaya Putra",
      "userId": "02270621919654608290"
     },
     "user_tz": -540
    },
    "id": "TMsUu9c5bOof",
    "outputId": "7fa04046-d670-44fd-ecb6-5ffee89584f9"
   },
   "outputs": [
    {
     "data": {
      "text/plain": [
       "2.0"
      ]
     },
     "execution_count": 24,
     "metadata": {},
     "output_type": "execute_result"
    }
   ],
   "source": [
    "# Ubah 2 menjadi float\n",
    "\n",
    "float(2)"
   ]
  },
  {
   "cell_type": "code",
   "execution_count": 25,
   "metadata": {
    "colab": {
     "base_uri": "https://localhost:8080/"
    },
    "executionInfo": {
     "elapsed": 422,
     "status": "ok",
     "timestamp": 1733147273858,
     "user": {
      "displayName": "Wijaya Putra",
      "userId": "02270621919654608290"
     },
     "user_tz": -540
    },
    "id": "IpMtSnoJbOog",
    "outputId": "9a0cde89-0a7a-47f3-9ec2-529c59b0dc22"
   },
   "outputs": [
    {
     "data": {
      "text/plain": [
       "float"
      ]
     },
     "execution_count": 25,
     "metadata": {},
     "output_type": "execute_result"
    }
   ],
   "source": [
    "# Ubah integer 2 menjadi float dan periksa jenisnya\n",
    "\n",
    "type(float(2))"
   ]
  },
  {
   "cell_type": "markdown",
   "metadata": {
    "id": "QKBSRSoEbOoh"
   },
   "source": [
    "<p>Ketika kita mengonversi integer menjadi float, kita tidak benar-benar mengubah nilai (yaitu, signifikansi) angka tersebut. Namun, jika kita mengonversi float menjadi integer, kita berpotensi kehilangan beberapa informasi. Misalnya, jika kita mengonversi float 1.1 ke integer, kita akan mendapatkan 1 dan kehilangan informasi desimal (mis., 0,1):</p>"
   ]
  },
  {
   "cell_type": "code",
   "execution_count": 27,
   "metadata": {
    "colab": {
     "base_uri": "https://localhost:8080/"
    },
    "executionInfo": {
     "elapsed": 381,
     "status": "ok",
     "timestamp": 1733147353769,
     "user": {
      "displayName": "Wijaya Putra",
      "userId": "02270621919654608290"
     },
     "user_tz": -540
    },
    "id": "5yLt5xiubOoi",
    "outputId": "47efa5c7-27f4-406a-9471-31887c7c85da"
   },
   "outputs": [
    {
     "data": {
      "text/plain": [
       "1"
      ]
     },
     "execution_count": 27,
     "metadata": {},
     "output_type": "execute_result"
    }
   ],
   "source": [
    "# Mengonversi 1.1 ke bilangan bulat akan mengakibatkan hilangnya informasi\n",
    "\n",
    "int(1.1)"
   ]
  },
  {
   "cell_type": "markdown",
   "metadata": {
    "id": "Uo5F-2nEbOoi"
   },
   "source": [
    "<h4>Mengonversi dari string ke integer atau float</h4>"
   ]
  },
  {
   "cell_type": "markdown",
   "metadata": {
    "id": "2b8DS3GwbOoj"
   },
   "source": [
    "<p>Terkadang, kita dapat memiliki string yang berisi angka di dalamnya. Jika demikian, kita dapat mengonversi string yang mewakili angka menjadi integer menggunakan <code>int()</code>:</p>"
   ]
  },
  {
   "cell_type": "code",
   "execution_count": 28,
   "metadata": {
    "colab": {
     "base_uri": "https://localhost:8080/"
    },
    "executionInfo": {
     "elapsed": 500,
     "status": "ok",
     "timestamp": 1733147401342,
     "user": {
      "displayName": "Wijaya Putra",
      "userId": "02270621919654608290"
     },
     "user_tz": -540
    },
    "id": "JAFeK1RWbOoj",
    "outputId": "cc828e48-9684-4094-d61d-8f4610b42c0d"
   },
   "outputs": [
    {
     "data": {
      "text/plain": [
       "1"
      ]
     },
     "execution_count": 28,
     "metadata": {},
     "output_type": "execute_result"
    }
   ],
   "source": [
    "# Ubah string menjadi integer\n",
    "\n",
    "int('1')"
   ]
  },
  {
   "cell_type": "markdown",
   "metadata": {
    "id": "pEic1jJtbOoj"
   },
   "source": [
    "<p>Namun jika Anda mencoba melakukannya dengan string yang tidak cocok untuk sebuah angka, Anda akan mendapatkan kesalahan. Coba yang berikut ini:</p>"
   ]
  },
  {
   "cell_type": "code",
   "execution_count": 29,
   "metadata": {
    "colab": {
     "base_uri": "https://localhost:8080/",
     "height": 182
    },
    "executionInfo": {
     "elapsed": 440,
     "status": "error",
     "timestamp": 1733147419110,
     "user": {
      "displayName": "Wijaya Putra",
      "userId": "02270621919654608290"
     },
     "user_tz": -540
    },
    "id": "x8EkDZS7bOoj",
    "outputId": "f4743ff7-8dca-4d1a-91ad-8b603e74f73a"
   },
   "outputs": [
    {
     "ename": "ValueError",
     "evalue": "invalid literal for int() with base 10: '1 atau 2 orang'",
     "output_type": "error",
     "traceback": [
      "\u001b[0;31m---------------------------------------------------------------------------\u001b[0m",
      "\u001b[0;31mValueError\u001b[0m                                Traceback (most recent call last)",
      "\u001b[0;32m<ipython-input-29-13867e90e2ad>\u001b[0m in \u001b[0;36m<cell line: 3>\u001b[0;34m()\u001b[0m\n\u001b[1;32m      1\u001b[0m \u001b[0;31m# Ubah string menjadi bilangan bulat dengan kesalahan\u001b[0m\u001b[0;34m\u001b[0m\u001b[0;34m\u001b[0m\u001b[0m\n\u001b[1;32m      2\u001b[0m \u001b[0;34m\u001b[0m\u001b[0m\n\u001b[0;32m----> 3\u001b[0;31m \u001b[0mint\u001b[0m\u001b[0;34m(\u001b[0m\u001b[0;34m'1 atau 2 orang'\u001b[0m\u001b[0;34m)\u001b[0m\u001b[0;34m\u001b[0m\u001b[0;34m\u001b[0m\u001b[0m\n\u001b[0m",
      "\u001b[0;31mValueError\u001b[0m: invalid literal for int() with base 10: '1 atau 2 orang'"
     ]
    }
   ],
   "source": [
    "# Ubah string menjadi bilangan bulat dengan kesalahan\n",
    "\n",
    "int('1 atau 2 orang')"
   ]
  },
  {
   "cell_type": "markdown",
   "metadata": {
    "id": "02J0h3XybOok"
   },
   "source": [
    "<p>Anda juga dapat mengonversi string yang berisi float menjadi objek <i>float</i>:</p>"
   ]
  },
  {
   "cell_type": "code",
   "execution_count": 30,
   "metadata": {
    "colab": {
     "base_uri": "https://localhost:8080/"
    },
    "executionInfo": {
     "elapsed": 374,
     "status": "ok",
     "timestamp": 1733147475888,
     "user": {
      "displayName": "Wijaya Putra",
      "userId": "02270621919654608290"
     },
     "user_tz": -540
    },
    "id": "KktLhRq8bOok",
    "outputId": "a7498957-0be6-4cb9-8653-179ef5ff0d89"
   },
   "outputs": [
    {
     "data": {
      "text/plain": [
       "1.2"
      ]
     },
     "execution_count": 30,
     "metadata": {},
     "output_type": "execute_result"
    }
   ],
   "source": [
    "# Ubah string \"1.2\" menjadi float\n",
    "\n",
    "float('1.2')"
   ]
  },
  {
   "cell_type": "markdown",
   "metadata": {
    "id": "uXZJR8EybOok"
   },
   "source": [
    "<jam/>\n",
    "<div class=\"alert alert-success alertsuccess\" style=\"margin-top: 20px\">\n",
    "     [Kiat:] Perhatikan bahwa string dapat direpresentasikan dengan tanda kutip tunggal (<code>'1.2'</code>) atau tanda kutip ganda (<code>\"1.2\"</code>), tetapi Anda tidak dapat menggabungkan keduanya (mis. , <kode>\"1.2'</kode>).\n",
    "</div>\n",
    "<jam/>"
   ]
  },
  {
   "cell_type": "markdown",
   "metadata": {
    "id": "dnjwgxrxbOok"
   },
   "source": [
    "<h4>Mengonversi angka menjadi string</h4>"
   ]
  },
  {
   "cell_type": "markdown",
   "metadata": {
    "id": "nRNjQg0bbOol"
   },
   "source": [
    "Jika kita dapat mengonversi string menjadi angka (*int* atau *float*), wajar kita berasumsi bahwa kita dapat mengonversi angka (*int* atau *float*) menjadi string, bukan?"
   ]
  },
  {
   "cell_type": "code",
   "execution_count": 31,
   "metadata": {
    "colab": {
     "base_uri": "https://localhost:8080/",
     "height": 36
    },
    "executionInfo": {
     "elapsed": 544,
     "status": "ok",
     "timestamp": 1733147485753,
     "user": {
      "displayName": "Wijaya Putra",
      "userId": "02270621919654608290"
     },
     "user_tz": -540
    },
    "id": "YgP81AT7bOol",
    "outputId": "3b776c23-c341-416c-c2b1-26b1aa13acdb"
   },
   "outputs": [
    {
     "data": {
      "application/vnd.google.colaboratory.intrinsic+json": {
       "type": "string"
      },
      "text/plain": [
       "'1'"
      ]
     },
     "execution_count": 31,
     "metadata": {},
     "output_type": "execute_result"
    }
   ],
   "source": [
    "# Mengonversi integer menjadi string\n",
    "\n",
    "str(1)\n"
   ]
  },
  {
   "cell_type": "markdown",
   "metadata": {
    "id": "QQHzRQNLbOol"
   },
   "source": [
    "Dan kita juga dapat mengonversi float menjadi string\n"
   ]
  },
  {
   "cell_type": "code",
   "execution_count": 32,
   "metadata": {
    "colab": {
     "base_uri": "https://localhost:8080/",
     "height": 36
    },
    "executionInfo": {
     "elapsed": 359,
     "status": "ok",
     "timestamp": 1733147491322,
     "user": {
      "displayName": "Wijaya Putra",
      "userId": "02270621919654608290"
     },
     "user_tz": -540
    },
    "id": "_KQPqEsrbOom",
    "outputId": "f6ccdbe2-a34a-41e4-d865-e986e8f6a7dc"
   },
   "outputs": [
    {
     "data": {
      "application/vnd.google.colaboratory.intrinsic+json": {
       "type": "string"
      },
      "text/plain": [
       "'1.0'"
      ]
     },
     "execution_count": 32,
     "metadata": {},
     "output_type": "execute_result"
    }
   ],
   "source": [
    "# Konversi float menjadi string\n",
    "\n",
    "str(1.0)"
   ]
  },
  {
   "cell_type": "markdown",
   "metadata": {
    "id": "OIu3od2KbOom"
   },
   "source": [
    "<h3 id=\"bool\" align=\"center\">Tipe objek Boolean</h3>"
   ]
  },
  {
   "cell_type": "markdown",
   "metadata": {
    "id": "Dk24kNnGbOom"
   },
   "source": [
    "<p><i>Boolean</i> adalah tipe penting lainnya di Python. Objek bertipe <i>Boolean</i> dapat mengambil salah satu dari dua nilai: <code>True</code> atau <code>False</code>:</p>"
   ]
  },
  {
   "cell_type": "code",
   "execution_count": 33,
   "metadata": {
    "colab": {
     "base_uri": "https://localhost:8080/"
    },
    "executionInfo": {
     "elapsed": 376,
     "status": "ok",
     "timestamp": 1733147529852,
     "user": {
      "displayName": "Wijaya Putra",
      "userId": "02270621919654608290"
     },
     "user_tz": -540
    },
    "id": "s_NX1P82bOom",
    "outputId": "e8dacbf4-5dc0-448a-dddd-ed63829914d5"
   },
   "outputs": [
    {
     "data": {
      "text/plain": [
       "True"
      ]
     },
     "execution_count": 33,
     "metadata": {},
     "output_type": "execute_result"
    }
   ],
   "source": [
    "# Nilai True\n",
    "\n",
    "True"
   ]
  },
  {
   "cell_type": "markdown",
   "metadata": {
    "id": "lNjCa-FNbOon"
   },
   "source": [
    "<p>Perhatikan bahwa nilai <code>True</code> memiliki huruf besar \"T\". Hal yang sama berlaku untuk <code>False</code> (yaitu Anda harus menggunakan huruf besar \"F\").</p>"
   ]
  },
  {
   "cell_type": "code",
   "execution_count": 34,
   "metadata": {
    "colab": {
     "base_uri": "https://localhost:8080/"
    },
    "executionInfo": {
     "elapsed": 9,
     "status": "ok",
     "timestamp": 1733147533985,
     "user": {
      "displayName": "Wijaya Putra",
      "userId": "02270621919654608290"
     },
     "user_tz": -540
    },
    "id": "dpDd-3DybOon",
    "outputId": "60ac5ff5-9d45-4ecf-d9f3-c249e52434b6"
   },
   "outputs": [
    {
     "data": {
      "text/plain": [
       "False"
      ]
     },
     "execution_count": 34,
     "metadata": {},
     "output_type": "execute_result"
    }
   ],
   "source": [
    "# Nilai False\n",
    "\n",
    "False"
   ]
  },
  {
   "cell_type": "markdown",
   "metadata": {
    "id": "u-j1-g3UbOon"
   },
   "source": [
    "<p>Saat Anda meminta Python untuk menampilkan jenis objek boolean, ia akan menampilkan <code>bool</code> yang merupakan singkatan dari <i>boolean</i>:</p>"
   ]
  },
  {
   "cell_type": "code",
   "execution_count": 35,
   "metadata": {
    "colab": {
     "base_uri": "https://localhost:8080/"
    },
    "executionInfo": {
     "elapsed": 387,
     "status": "ok",
     "timestamp": 1733147553754,
     "user": {
      "displayName": "Wijaya Putra",
      "userId": "02270621919654608290"
     },
     "user_tz": -540
    },
    "id": "--QWxiYCbOon",
    "outputId": "b74dc165-f6a1-4059-c167-985159e0170c"
   },
   "outputs": [
    {
     "data": {
      "text/plain": [
       "bool"
      ]
     },
     "execution_count": 35,
     "metadata": {},
     "output_type": "execute_result"
    }
   ],
   "source": [
    "# Tipe True\n",
    "\n",
    "type(True)"
   ]
  },
  {
   "cell_type": "code",
   "execution_count": 36,
   "metadata": {
    "colab": {
     "base_uri": "https://localhost:8080/"
    },
    "executionInfo": {
     "elapsed": 358,
     "status": "ok",
     "timestamp": 1733147556960,
     "user": {
      "displayName": "Wijaya Putra",
      "userId": "02270621919654608290"
     },
     "user_tz": -540
    },
    "id": "N8ci0O8HbOoo",
    "outputId": "6c6db416-0eb9-41f9-a139-2879d5220890"
   },
   "outputs": [
    {
     "data": {
      "text/plain": [
       "bool"
      ]
     },
     "execution_count": 36,
     "metadata": {},
     "output_type": "execute_result"
    }
   ],
   "source": [
    "# Tipe False\n",
    "\n",
    "type(False)"
   ]
  },
  {
   "cell_type": "markdown",
   "metadata": {
    "id": "s3dzZtQRbOoo"
   },
   "source": [
    "<p>Kita dapat mengonversi tipe objek boolean ke tipe objek lain. Jika kita mengonversi boolean <code>True</code> ke integer atau float, kita akan mendapatkan <code>1</code>. Jika kita mengonversi boolean <code>False</code> ke integer atau float, kita akan mendapatkan <code>0</code>. Demikian pula, jika kita mentransmisikan <code>1</code> ke Boolean, Anda mendapatkan <code>True</code>. Dan jika kita mentransmisikan <code>0</code> ke Boolean, kita akan mendapatkan <code>False</code>. Mari kita coba:</p>"
   ]
  },
  {
   "cell_type": "code",
   "execution_count": 37,
   "metadata": {
    "colab": {
     "base_uri": "https://localhost:8080/"
    },
    "executionInfo": {
     "elapsed": 377,
     "status": "ok",
     "timestamp": 1733147568854,
     "user": {
      "displayName": "Wijaya Putra",
      "userId": "02270621919654608290"
     },
     "user_tz": -540
    },
    "id": "H9pRfmoNbOoo",
    "outputId": "ead20bc9-564d-4d2a-9737-ab8fb11b6e96"
   },
   "outputs": [
    {
     "data": {
      "text/plain": [
       "1"
      ]
     },
     "execution_count": 37,
     "metadata": {},
     "output_type": "execute_result"
    }
   ],
   "source": [
    "# Mengonversi True ke int\n",
    "\n",
    "int(True)"
   ]
  },
  {
   "cell_type": "code",
   "execution_count": 38,
   "metadata": {
    "colab": {
     "base_uri": "https://localhost:8080/"
    },
    "executionInfo": {
     "elapsed": 356,
     "status": "ok",
     "timestamp": 1733147571798,
     "user": {
      "displayName": "Wijaya Putra",
      "userId": "02270621919654608290"
     },
     "user_tz": -540
    },
    "id": "0QqWbK8ibOoo",
    "outputId": "e1ea40b0-637d-4128-b81d-dfcc53fc2f97"
   },
   "outputs": [
    {
     "data": {
      "text/plain": [
       "True"
      ]
     },
     "execution_count": 38,
     "metadata": {},
     "output_type": "execute_result"
    }
   ],
   "source": [
    "# Mengonversi 1 menjadi boolean\n",
    "\n",
    "bool(1)"
   ]
  },
  {
   "cell_type": "code",
   "execution_count": 44,
   "metadata": {
    "colab": {
     "base_uri": "https://localhost:8080/"
    },
    "executionInfo": {
     "elapsed": 395,
     "status": "ok",
     "timestamp": 1733147659068,
     "user": {
      "displayName": "Wijaya Putra",
      "userId": "02270621919654608290"
     },
     "user_tz": -540
    },
    "id": "W12S2sGqbOop",
    "outputId": "ef7c196d-14ab-4084-f539-fe72092aaacc"
   },
   "outputs": [
    {
     "data": {
      "text/plain": [
       "True"
      ]
     },
     "execution_count": 44,
     "metadata": {},
     "output_type": "execute_result"
    }
   ],
   "source": [
    "# Ubah 0 menjadi boolean\n",
    "\n",
    "bool(-1.1)"
   ]
  },
  {
   "cell_type": "code",
   "execution_count": 40,
   "metadata": {
    "colab": {
     "base_uri": "https://localhost:8080/"
    },
    "executionInfo": {
     "elapsed": 462,
     "status": "ok",
     "timestamp": 1733147583329,
     "user": {
      "displayName": "Wijaya Putra",
      "userId": "02270621919654608290"
     },
     "user_tz": -540
    },
    "id": "xkPK6AhtbOop",
    "outputId": "77db0f90-e4a2-4256-ad87-55e36860998c"
   },
   "outputs": [
    {
     "data": {
      "text/plain": [
       "1.0"
      ]
     },
     "execution_count": 40,
     "metadata": {},
     "output_type": "execute_result"
    }
   ],
   "source": [
    "# Konversi True ke float\n",
    "\n",
    "float(True)"
   ]
  },
  {
   "cell_type": "code",
   "execution_count": 11,
   "metadata": {},
   "outputs": [
    {
     "data": {
      "text/plain": [
       "False"
      ]
     },
     "execution_count": 11,
     "metadata": {},
     "output_type": "execute_result"
    }
   ],
   "source": [
    "bool(0)"
   ]
  },
  {
   "cell_type": "markdown",
   "metadata": {
    "id": "V8vcLV2ybOop"
   },
   "source": [
    "<h3 id=\"exer_type\">Latihan!</h3>"
   ]
  },
  {
   "cell_type": "markdown",
   "metadata": {
    "id": "zrCWNg3abOop"
   },
   "source": [
    "<p>Apa tipe objek dari hasil: <code>6 / 2</code>?</p>\n"
   ]
  },
  {
   "cell_type": "code",
   "execution_count": 13,
   "metadata": {
    "colab": {
     "base_uri": "https://localhost:8080/"
    },
    "executionInfo": {
     "elapsed": 403,
     "status": "ok",
     "timestamp": 1733147747997,
     "user": {
      "displayName": "Wijaya Putra",
      "userId": "02270621919654608290"
     },
     "user_tz": -540
    },
    "id": "sqq0PGTNbOoq",
    "outputId": "c8159ece-ffe8-4996-e2a3-3222fd4aa131"
   },
   "outputs": [
    {
     "data": {
      "text/plain": [
       "float"
      ]
     },
     "execution_count": 13,
     "metadata": {},
     "output_type": "execute_result"
    }
   ],
   "source": [
    "# Tulis kode Anda di bawah ini. Jangan lupa tekan Shift+Enter untuk mengeksekusi sel\n",
    "# type(6/2)\n",
    "type(6/2)"
   ]
  },
  {
   "cell_type": "markdown",
   "metadata": {
    "id": "dKhMA7D4bOoq"
   },
   "source": [
    "<details><summary>Klik di sini untuk solusinya</summary>\n",
    "\n",
    "```python\n",
    "type(6/2) # float\n",
    "\n",
    "```\n",
    "\n",
    "</details>\n"
   ]
  },
  {
   "cell_type": "markdown",
   "metadata": {
    "id": "4HgRtxRcbOoq"
   },
   "source": [
    "<p>Apa jenis hasil dari: <code>6 // 2</code>? (Perhatikan garis miring ganda <code>//</code>.)</p>\n"
   ]
  },
  {
   "cell_type": "code",
   "execution_count": 14,
   "metadata": {
    "colab": {
     "base_uri": "https://localhost:8080/"
    },
    "executionInfo": {
     "elapsed": 395,
     "status": "ok",
     "timestamp": 1733147837611,
     "user": {
      "displayName": "Wijaya Putra",
      "userId": "02270621919654608290"
     },
     "user_tz": -540
    },
    "id": "06G66g3hbOoq",
    "outputId": "69feb270-38eb-4d44-d085-76519c06e05f"
   },
   "outputs": [
    {
     "data": {
      "text/plain": [
       "int"
      ]
     },
     "execution_count": 14,
     "metadata": {},
     "output_type": "execute_result"
    }
   ],
   "source": [
    "# Tulis kode Anda di bawah ini. Jangan lupa tekan Shift+Enter untuk mengeksekusi sel\n",
    "type(8//2)"
   ]
  },
  {
   "cell_type": "markdown",
   "metadata": {
    "id": "FzJrLY86bOor"
   },
   "source": [
    "<details><summary>Klik di sini untuk solusinya</summary>\n",
    "\n",
    "```python\n",
    "type(6//2) # int, as the double slashes stand for integer division\n",
    "\n",
    "```\n",
    "\n",
    "</details>\n"
   ]
  },
  {
   "cell_type": "markdown",
   "metadata": {
    "id": "OCTDkvxabOor"
   },
   "source": [
    "<hr>\n"
   ]
  },
  {
   "cell_type": "markdown",
   "metadata": {
    "id": "2gtnF4z8bOor"
   },
   "source": [
    "<h2 id=\"expressions\" align=\"center\">Expression and Variables</h2>\n"
   ]
  },
  {
   "cell_type": "markdown",
   "metadata": {
    "id": "ecklU-_2bOor"
   },
   "source": [
    "<h3 id=\"exp\">Expressions</h3>\n"
   ]
  },
  {
   "cell_type": "markdown",
   "metadata": {
    "id": "06Rj2TL7bOor"
   },
   "source": [
    "<p>Ekspresi dalam Python dapat menyertakan operasi di antara tipe yang kompatibel (mis., integer dan float). Misalnya, operasi aritmatika dasar seperti menambahkan beberapa angka:</p>"
   ]
  },
  {
   "cell_type": "code",
   "execution_count": 50,
   "metadata": {
    "colab": {
     "base_uri": "https://localhost:8080/"
    },
    "executionInfo": {
     "elapsed": 394,
     "status": "ok",
     "timestamp": 1733147884498,
     "user": {
      "displayName": "Wijaya Putra",
      "userId": "02270621919654608290"
     },
     "user_tz": -540
    },
    "id": "uuw3hEkmbOos",
    "outputId": "adf20a35-d77f-45b7-e5b7-24467d003c4b"
   },
   "outputs": [
    {
     "data": {
      "text/plain": [
       "160"
      ]
     },
     "execution_count": 50,
     "metadata": {},
     "output_type": "execute_result"
    }
   ],
   "source": [
    "# Ekspresi operasi penambahan\n",
    "\n",
    "43 + 60 + 16 + 41"
   ]
  },
  {
   "cell_type": "markdown",
   "metadata": {
    "id": "akcSVNdZbOos"
   },
   "source": [
    "<p>Kita dapat melakukan operasi pengurangan menggunakan operator minus. Dalam hal ini hasilnya adalah angka negatif:</p>\n"
   ]
  },
  {
   "cell_type": "code",
   "execution_count": 51,
   "metadata": {
    "colab": {
     "base_uri": "https://localhost:8080/"
    },
    "executionInfo": {
     "elapsed": 377,
     "status": "ok",
     "timestamp": 1733147889174,
     "user": {
      "displayName": "Wijaya Putra",
      "userId": "02270621919654608290"
     },
     "user_tz": -540
    },
    "id": "eyjqOiF_bOos",
    "outputId": "42dae940-7905-4b6b-e0d1-ae89895f552d"
   },
   "outputs": [
    {
     "data": {
      "text/plain": [
       "-10"
      ]
     },
     "execution_count": 51,
     "metadata": {},
     "output_type": "execute_result"
    }
   ],
   "source": [
    "# Ekspresi operasi pengurangan\n",
    "\n",
    "50 - 60"
   ]
  },
  {
   "cell_type": "markdown",
   "metadata": {
    "id": "Yr58IlIPbOos"
   },
   "source": [
    "<p>Kita dapat melakukan perkalian menggunakan tanda bintang:</p>\n"
   ]
  },
  {
   "cell_type": "code",
   "execution_count": 52,
   "metadata": {
    "colab": {
     "base_uri": "https://localhost:8080/"
    },
    "executionInfo": {
     "elapsed": 438,
     "status": "ok",
     "timestamp": 1733147893734,
     "user": {
      "displayName": "Wijaya Putra",
      "userId": "02270621919654608290"
     },
     "user_tz": -540
    },
    "id": "GFN4YpqubOot",
    "outputId": "dddd1d19-7c08-452b-be6b-6aec99f84d88"
   },
   "outputs": [
    {
     "data": {
      "text/plain": [
       "25"
      ]
     },
     "execution_count": 52,
     "metadata": {},
     "output_type": "execute_result"
    }
   ],
   "source": [
    "# Ekspresi operasi perkalian\n",
    "\n",
    "5 * 5"
   ]
  },
  {
   "cell_type": "markdown",
   "metadata": {
    "id": "7Y4M6aC9bOot"
   },
   "source": [
    "<p>Kita juga bisa melakukan pembagian dengan garis miring:\n"
   ]
  },
  {
   "cell_type": "code",
   "execution_count": 53,
   "metadata": {
    "colab": {
     "base_uri": "https://localhost:8080/"
    },
    "executionInfo": {
     "elapsed": 383,
     "status": "ok",
     "timestamp": 1733147896235,
     "user": {
      "displayName": "Wijaya Putra",
      "userId": "02270621919654608290"
     },
     "user_tz": -540
    },
    "id": "d8V1r0FGbOot",
    "outputId": "826ceb1e-42b4-4fe9-fd31-9ccc1d899448"
   },
   "outputs": [
    {
     "data": {
      "text/plain": [
       "5.0"
      ]
     },
     "execution_count": 53,
     "metadata": {},
     "output_type": "execute_result"
    }
   ],
   "source": [
    "# Ekspresi operasi pembagian\n",
    "\n",
    "25 / 5"
   ]
  },
  {
   "cell_type": "code",
   "execution_count": 54,
   "metadata": {
    "colab": {
     "base_uri": "https://localhost:8080/"
    },
    "executionInfo": {
     "elapsed": 398,
     "status": "ok",
     "timestamp": 1733147899759,
     "user": {
      "displayName": "Wijaya Putra",
      "userId": "02270621919654608290"
     },
     "user_tz": -540
    },
    "id": "T7m3LupmbOot",
    "outputId": "774b8c9e-e867-4f1a-9331-285d5878674d"
   },
   "outputs": [
    {
     "data": {
      "text/plain": [
       "4.166666666666667"
      ]
     },
     "execution_count": 54,
     "metadata": {},
     "output_type": "execute_result"
    }
   ],
   "source": [
    "# Ekspresi operasi pembagian\n",
    "\n",
    "25 / 6"
   ]
  },
  {
   "cell_type": "markdown",
   "metadata": {
    "id": "CHxB1DgwbOou"
   },
   "source": [
    "<p>Seperti yang terlihat pada kuis di atas, kita dapat menggunakan garis miring ganda untuk pembagian bilangan bulat, di mana hasilnya dibulatkan ke bilangan bulat terdekat:\n"
   ]
  },
  {
   "cell_type": "code",
   "execution_count": 55,
   "metadata": {
    "colab": {
     "base_uri": "https://localhost:8080/"
    },
    "executionInfo": {
     "elapsed": 371,
     "status": "ok",
     "timestamp": 1733147905261,
     "user": {
      "displayName": "Wijaya Putra",
      "userId": "02270621919654608290"
     },
     "user_tz": -540
    },
    "id": "rxrXslrPbOou",
    "outputId": "cf09f904-3d4a-4e65-cf67-30d2e982025d"
   },
   "outputs": [
    {
     "data": {
      "text/plain": [
       "5"
      ]
     },
     "execution_count": 55,
     "metadata": {},
     "output_type": "execute_result"
    }
   ],
   "source": [
    "# Ekspresi operasi pembagian bilangan bulat\n",
    "\n",
    "25 // 5"
   ]
  },
  {
   "cell_type": "code",
   "execution_count": 56,
   "metadata": {
    "colab": {
     "base_uri": "https://localhost:8080/"
    },
    "executionInfo": {
     "elapsed": 387,
     "status": "ok",
     "timestamp": 1733147908991,
     "user": {
      "displayName": "Wijaya Putra",
      "userId": "02270621919654608290"
     },
     "user_tz": -540
    },
    "id": "WwjQ8NYTbOou",
    "outputId": "4ee859b5-3df7-45d9-bc8e-53cac46856e0"
   },
   "outputs": [
    {
     "data": {
      "text/plain": [
       "4"
      ]
     },
     "execution_count": 56,
     "metadata": {},
     "output_type": "execute_result"
    }
   ],
   "source": [
    "# Ekspresi operasi pembagian bilangan bulat\n",
    "\n",
    "25 // 6"
   ]
  },
  {
   "cell_type": "markdown",
   "metadata": {
    "id": "8NXh2jM9bOou"
   },
   "source": [
    "<h3 id=\"exer_exp\">Latihan!</h3>"
   ]
  },
  {
   "cell_type": "markdown",
   "metadata": {
    "id": "6iYYw606bOov"
   },
   "source": [
    "<p>Mari tulis kode yang menghitung berapa jam dalam 160 menit:\n"
   ]
  },
  {
   "cell_type": "code",
   "execution_count": null,
   "metadata": {
    "colab": {
     "base_uri": "https://localhost:8080/"
    },
    "executionInfo": {
     "elapsed": 378,
     "status": "ok",
     "timestamp": 1733147973483,
     "user": {
      "displayName": "Wijaya Putra",
      "userId": "02270621919654608290"
     },
     "user_tz": -540
    },
    "id": "BgMuw_XEbOov",
    "outputId": "5dc04bae-9cd6-4519-cdb9-9a055850e333"
   },
   "outputs": [
    {
     "name": "stdout",
     "output_type": "stream",
     "text": [
      "2.6666666666666665\n"
     ]
    }
   ],
   "source": [
    "# Tulis kode Anda di bawah ini. Jangan lupa tekan Shift+Enter untuk mengeksekusi sel\n",
    "A = 160/60\n",
    "print(A)"
   ]
  },
  {
   "cell_type": "markdown",
   "metadata": {
    "id": "-HgjQ8j7bOov"
   },
   "source": [
    "<details><summary>Klik di sini untuk solusinya</summary>\n",
    "\n",
    "```python\n",
    "160/60\n",
    "\n",
    "# Or\n",
    "\n",
    "160//60\n",
    "\n",
    "```\n",
    "\n",
    "</details>\n"
   ]
  },
  {
   "cell_type": "markdown",
   "metadata": {
    "id": "Kt7eX6iPbOov"
   },
   "source": [
    "<p>Python mengikuti konvensi matematika yang diterima dengan baik saat mengevaluasi ekspresi matematika. Dalam contoh berikut, Python menambahkan 30 ke hasil perkalian (yaitu, 120)."
   ]
  },
  {
   "cell_type": "code",
   "execution_count": 58,
   "metadata": {
    "colab": {
     "base_uri": "https://localhost:8080/"
    },
    "executionInfo": {
     "elapsed": 410,
     "status": "ok",
     "timestamp": 1733148061317,
     "user": {
      "displayName": "Wijaya Putra",
      "userId": "02270621919654608290"
     },
     "user_tz": -540
    },
    "id": "yVuGs0bZbOow",
    "outputId": "b4daba69-eb43-4011-ff19-908290ac4dcb"
   },
   "outputs": [
    {
     "data": {
      "text/plain": [
       "150"
      ]
     },
     "execution_count": 58,
     "metadata": {},
     "output_type": "execute_result"
    }
   ],
   "source": [
    "# Mathematical expression\n",
    "\n",
    "30 + 2 * 60"
   ]
  },
  {
   "cell_type": "markdown",
   "metadata": {
    "id": "TyQXB9sabOow"
   },
   "source": [
    "<p>Dan seperti halnya matematika, ekspresi yang diapit tanda kurung memiliki prioritas. Jadi perkalian berikut 32 dengan 60.\n"
   ]
  },
  {
   "cell_type": "code",
   "execution_count": 60,
   "metadata": {
    "colab": {
     "base_uri": "https://localhost:8080/"
    },
    "executionInfo": {
     "elapsed": 394,
     "status": "ok",
     "timestamp": 1733148154809,
     "user": {
      "displayName": "Wijaya Putra",
      "userId": "02270621919654608290"
     },
     "user_tz": -540
    },
    "id": "gJZnatnYbOox",
    "outputId": "930da69b-5c46-42d4-8092-5494cc35c0a7"
   },
   "outputs": [
    {
     "data": {
      "text/plain": [
       "1920"
      ]
     },
     "execution_count": 60,
     "metadata": {},
     "output_type": "execute_result"
    }
   ],
   "source": [
    "# Ekspresi matematika\n",
    "\n",
    "(30 + 2) * 60"
   ]
  },
  {
   "cell_type": "markdown",
   "metadata": {
    "id": "5bwOMku3bOox"
   },
   "source": [
    "<h3 id=\"var\">Variabel</h3>\n"
   ]
  },
  {
   "cell_type": "markdown",
   "metadata": {
    "id": "YMhsAKj4bOox"
   },
   "source": [
    "<p>Sama seperti kebanyakan bahasa pemrograman, kita dapat menyimpan nilai dalam <i>variabel</i> sehingga kita dapat menggunakannya nanti. Misalnya:</p>"
   ]
  },
  {
   "cell_type": "code",
   "execution_count": 61,
   "metadata": {
    "executionInfo": {
     "elapsed": 385,
     "status": "ok",
     "timestamp": 1733148160053,
     "user": {
      "displayName": "Wijaya Putra",
      "userId": "02270621919654608290"
     },
     "user_tz": -540
    },
    "id": "uYdWcQjcbOox"
   },
   "outputs": [],
   "source": [
    "# Menyimpan nilai ke dalam variabel\n",
    "\n",
    "x = 43 + 60 + 16 + 41"
   ]
  },
  {
   "cell_type": "markdown",
   "metadata": {
    "id": "4m8FoySBbOoy"
   },
   "source": [
    "<p>Untuk melihat nilai <code>x</code> dalam Notes, kita cukup meletakkannya di baris terakhir sel:</p>"
   ]
  },
  {
   "cell_type": "code",
   "execution_count": 17,
   "metadata": {
    "colab": {
     "base_uri": "https://localhost:8080/"
    },
    "executionInfo": {
     "elapsed": 376,
     "status": "ok",
     "timestamp": 1733148193563,
     "user": {
      "displayName": "Wijaya Putra",
      "userId": "02270621919654608290"
     },
     "user_tz": -540
    },
    "id": "Fl1HSyYXbOoy",
    "outputId": "ad33c33f-40b8-4a33-a391-7d61461105c7"
   },
   "outputs": [
    {
     "name": "stdout",
     "output_type": "stream",
     "text": [
      "160\n"
     ]
    }
   ],
   "source": [
    "# Cetak nilai dalam variabel\n",
    "x = 43 + 60 + 16 + 41\n",
    "# print(x)\n",
    "print(x)"
   ]
  },
  {
   "cell_type": "code",
   "execution_count": 72,
   "metadata": {
    "executionInfo": {
     "elapsed": 361,
     "status": "ok",
     "timestamp": 1733148464239,
     "user": {
      "displayName": "Wijaya Putra",
      "userId": "02270621919654608290"
     },
     "user_tz": -540
    },
    "id": "b_BYLqSXsrEZ"
   },
   "outputs": [],
   "source": [
    "data = 5**25"
   ]
  },
  {
   "cell_type": "code",
   "execution_count": 18,
   "metadata": {
    "colab": {
     "base_uri": "https://localhost:8080/"
    },
    "executionInfo": {
     "elapsed": 389,
     "status": "ok",
     "timestamp": 1733148467222,
     "user": {
      "displayName": "Wijaya Putra",
      "userId": "02270621919654608290"
     },
     "user_tz": -540
    },
    "id": "diMBOmBVskzQ",
    "outputId": "48991ba7-2dbb-4c21-d573-97c1bbf502ac"
   },
   "outputs": [
    {
     "ename": "NameError",
     "evalue": "name 'data' is not defined",
     "output_type": "error",
     "traceback": [
      "\u001b[1;31m---------------------------------------------------------------------------\u001b[0m",
      "\u001b[1;31mNameError\u001b[0m                                 Traceback (most recent call last)",
      "Cell \u001b[1;32mIn[18], line 1\u001b[0m\n\u001b[1;32m----> 1\u001b[0m \u001b[43mdata\u001b[49m\n",
      "\u001b[1;31mNameError\u001b[0m: name 'data' is not defined"
     ]
    }
   ],
   "source": [
    "data"
   ]
  },
  {
   "cell_type": "code",
   "execution_count": 70,
   "metadata": {
    "colab": {
     "base_uri": "https://localhost:8080/"
    },
    "executionInfo": {
     "elapsed": 442,
     "status": "ok",
     "timestamp": 1733148418888,
     "user": {
      "displayName": "Wijaya Putra",
      "userId": "02270621919654608290"
     },
     "user_tz": -540
    },
    "id": "8SisA1E6sL6N",
    "outputId": "b14dbea2-f686-4123-f306-ec4014bd4f75"
   },
   "outputs": [
    {
     "data": {
      "text/plain": [
       "18.181818181818183"
      ]
     },
     "execution_count": 70,
     "metadata": {},
     "output_type": "execute_result"
    }
   ],
   "source": [
    "test = 100 / 5.5\n",
    "test"
   ]
  },
  {
   "cell_type": "code",
   "execution_count": 68,
   "metadata": {
    "colab": {
     "base_uri": "https://localhost:8080/",
     "height": 36
    },
    "executionInfo": {
     "elapsed": 10,
     "status": "ok",
     "timestamp": 1733148385406,
     "user": {
      "displayName": "Wijaya Putra",
      "userId": "02270621919654608290"
     },
     "user_tz": -540
    },
    "id": "7X7kO2mssQ3V",
    "outputId": "fb1af511-32ca-4a2c-99e2-5cb74d55efe4"
   },
   "outputs": [
    {
     "data": {
      "application/vnd.google.colaboratory.intrinsic+json": {
       "type": "string"
      },
      "text/plain": [
       "'Cek dulu'"
      ]
     },
     "execution_count": 68,
     "metadata": {},
     "output_type": "execute_result"
    }
   ],
   "source": [
    "test"
   ]
  },
  {
   "cell_type": "markdown",
   "metadata": {
    "id": "Dx_NnjPtbOoy"
   },
   "source": [
    "<p>Kita juga dapat melakukan operasi pada <code>x</code> dan menyimpan hasilnya ke variabel baru:</p>\n"
   ]
  },
  {
   "cell_type": "code",
   "execution_count": 64,
   "metadata": {
    "colab": {
     "base_uri": "https://localhost:8080/"
    },
    "executionInfo": {
     "elapsed": 354,
     "status": "ok",
     "timestamp": 1733148256825,
     "user": {
      "displayName": "Wijaya Putra",
      "userId": "02270621919654608290"
     },
     "user_tz": -540
    },
    "id": "paUh69Z8bOoz",
    "outputId": "763b26bf-6c4c-4122-eb77-dfa0206f555e"
   },
   "outputs": [
    {
     "data": {
      "text/plain": [
       "2.6666666666666665"
      ]
     },
     "execution_count": 64,
     "metadata": {},
     "output_type": "execute_result"
    }
   ],
   "source": [
    "# Gunakan variabel lain untuk menyimpan hasil operasi antara variabel dan nilai\n",
    "\n",
    "y = x / 60\n",
    "y"
   ]
  },
  {
   "cell_type": "markdown",
   "metadata": {
    "id": "AiYn_51_bOoz"
   },
   "source": [
    "<p>Jika kita menyimpan nilai ke variabel yang sudah ada, nilai baru akan menimpa nilai sebelumnya:</p>\n"
   ]
  },
  {
   "cell_type": "code",
   "execution_count": 76,
   "metadata": {
    "colab": {
     "base_uri": "https://localhost:8080/"
    },
    "executionInfo": {
     "elapsed": 378,
     "status": "ok",
     "timestamp": 1733148571098,
     "user": {
      "displayName": "Wijaya Putra",
      "userId": "02270621919654608290"
     },
     "user_tz": -540
    },
    "id": "ZxL5kpIQs3Ro",
    "outputId": "15a603e8-87fa-40aa-c14a-c168645e136d"
   },
   "outputs": [
    {
     "data": {
      "text/plain": [
       "2.6666666666666665"
      ]
     },
     "execution_count": 76,
     "metadata": {},
     "output_type": "execute_result"
    }
   ],
   "source": [
    "x # 1st x value"
   ]
  },
  {
   "cell_type": "code",
   "execution_count": 75,
   "metadata": {
    "colab": {
     "base_uri": "https://localhost:8080/"
    },
    "executionInfo": {
     "elapsed": 418,
     "status": "ok",
     "timestamp": 1733148553680,
     "user": {
      "displayName": "Wijaya Putra",
      "userId": "02270621919654608290"
     },
     "user_tz": -540
    },
    "id": "fxkV1r8-bOoz",
    "outputId": "3601c225-9cca-4e07-a632-8c84b8a89d3f"
   },
   "outputs": [
    {
     "data": {
      "text/plain": [
       "2.6666666666666665"
      ]
     },
     "execution_count": 75,
     "metadata": {},
     "output_type": "execute_result"
    }
   ],
   "source": [
    "# Timpa variabel dengan nilai baru\n",
    "\n",
    "x = x / 60\n",
    "x"
   ]
  },
  {
   "cell_type": "markdown",
   "metadata": {
    "id": "KsEu_WFybOo0"
   },
   "source": [
    "<p>Sebaiknya gunakan nama variabel yang bermakna, sehingga Anda dan orang lain dapat membaca kode dan memahaminya dengan lebih mudah:</p>"
   ]
  },
  {
   "cell_type": "code",
   "execution_count": 77,
   "metadata": {
    "colab": {
     "base_uri": "https://localhost:8080/"
    },
    "executionInfo": {
     "elapsed": 369,
     "status": "ok",
     "timestamp": 1733148649671,
     "user": {
      "displayName": "Wijaya Putra",
      "userId": "02270621919654608290"
     },
     "user_tz": -540
    },
    "id": "B9gvmcn4bOo0",
    "outputId": "106c89cf-e070-42ac-a718-d20cf19fe054"
   },
   "outputs": [
    {
     "data": {
      "text/plain": [
       "142"
      ]
     },
     "execution_count": 77,
     "metadata": {},
     "output_type": "execute_result"
    }
   ],
   "source": [
    "# Beri nama variabel dengan penuh arti\n",
    "\n",
    "total_min = 43 + 42 + 57 # Total panjang album dalam hitungan menit\n",
    "total_min"
   ]
  },
  {
   "cell_type": "code",
   "execution_count": 80,
   "metadata": {
    "colab": {
     "base_uri": "https://localhost:8080/"
    },
    "executionInfo": {
     "elapsed": 356,
     "status": "ok",
     "timestamp": 1733148710349,
     "user": {
      "displayName": "Wijaya Putra",
      "userId": "02270621919654608290"
     },
     "user_tz": -540
    },
    "id": "tKLR75BabOo0",
    "outputId": "2362a223-4775-4147-aac4-1412982baf03"
   },
   "outputs": [
    {
     "data": {
      "text/plain": [
       "2.3666666666666667"
      ]
     },
     "execution_count": 80,
     "metadata": {},
     "output_type": "execute_result"
    }
   ],
   "source": [
    "# Beri nama variabel dengan penuh arti\n",
    "\n",
    "total_hours = total_min / 60 # Total panjang album dalam hitungan jam\n",
    "total_jam = total_hours\n",
    "total_jam"
   ]
  },
  {
   "cell_type": "markdown",
   "metadata": {
    "id": "-Go_QxxhbOo0"
   },
   "source": [
    "<p>Dalam sel di atas kami menambahkan panjang tiga album dalam hitungan menit dan menyimpannya dalam <code>total_min</code>. Kami kemudian membaginya dengan 60 untuk menghitung panjang total <code>total_hours</code> dalam jam. Anda juga dapat melakukan semuanya sekaligus dalam satu ekspresi, selama Anda menggunakan tanda kurung untuk menambahkan panjang album sebelum Anda membaginya, seperti yang ditampilkan di bawah.</p>\n"
   ]
  },
  {
   "cell_type": "code",
   "execution_count": 79,
   "metadata": {
    "colab": {
     "base_uri": "https://localhost:8080/"
    },
    "executionInfo": {
     "elapsed": 396,
     "status": "ok",
     "timestamp": 1733148689268,
     "user": {
      "displayName": "Wijaya Putra",
      "userId": "02270621919654608290"
     },
     "user_tz": -540
    },
    "id": "fr6l1t3cbOo0",
    "outputId": "0884f1f4-0d7a-495d-c7dd-c1da2db17269"
   },
   "outputs": [
    {
     "data": {
      "text/plain": [
       "2.3666666666666667"
      ]
     },
     "execution_count": 79,
     "metadata": {},
     "output_type": "execute_result"
    }
   ],
   "source": [
    "# Ekspresi Rumit\n",
    "\n",
    "total_hours = (43 + 42 + 57) / 60  # Total jam dalam satu ekspresi\n",
    "total_hours"
   ]
  },
  {
   "cell_type": "markdown",
   "metadata": {
    "id": "s6Ha23RrbOo1"
   },
   "source": [
    "<p>Jika Anda lebih suka memiliki total jam sebagai bilangan bulat, tentu saja Anda dapat mengganti pembagian floating point dengan pembagian bilangan bulat (yaitu, <code>//</code>).</p>\n"
   ]
  },
  {
   "cell_type": "markdown",
   "metadata": {
    "id": "YvCO8f5sbOo1"
   },
   "source": [
    "<h3 id=\"exer_exp_var\">Latihan!</h3>\n"
   ]
  },
  {
   "cell_type": "markdown",
   "metadata": {
    "id": "wj_pOtS5bOo1"
   },
   "source": [
    "<p>Berapa nilai <code>x</code> di mana <code>x = 3 + 2 * 2</code></p>\n"
   ]
  },
  {
   "cell_type": "code",
   "execution_count": 19,
   "metadata": {
    "colab": {
     "base_uri": "https://localhost:8080/"
    },
    "executionInfo": {
     "elapsed": 392,
     "status": "ok",
     "timestamp": 1733148821315,
     "user": {
      "displayName": "Wijaya Putra",
      "userId": "02270621919654608290"
     },
     "user_tz": -540
    },
    "id": "2xXVEE6gbOo1",
    "outputId": "2261bfbd-5c22-4fb8-e628-4d838af0c7f7"
   },
   "outputs": [
    {
     "name": "stdout",
     "output_type": "stream",
     "text": [
      "7\n"
     ]
    }
   ],
   "source": [
    "# Tulis kode Anda di bawah ini. Jangan lupa tekan Shift+Enter untuk mengeksekusi sel\n",
    "x = 3 + 2 *2\n",
    "print(x)"
   ]
  },
  {
   "cell_type": "markdown",
   "metadata": {
    "id": "2U_fp_WMbOo2"
   },
   "source": [
    "<details><summary>Klik di sini untuk solusinya</summary>\n",
    "\n",
    "```python\n",
    "7\n",
    "\n",
    "```\n",
    "\n",
    "</details>\n"
   ]
  },
  {
   "cell_type": "markdown",
   "metadata": {
    "id": "vrCjD51ZbOo2"
   },
   "source": [
    "<p>Berapa nilai <code>y</code> di mana <code>y = (3 + 2) * 2</code>?</p>\n"
   ]
  },
  {
   "cell_type": "code",
   "execution_count": 20,
   "metadata": {
    "colab": {
     "base_uri": "https://localhost:8080/"
    },
    "executionInfo": {
     "elapsed": 7,
     "status": "ok",
     "timestamp": 1733148834286,
     "user": {
      "displayName": "Wijaya Putra",
      "userId": "02270621919654608290"
     },
     "user_tz": -540
    },
    "id": "r06QtRu_bOo2",
    "outputId": "4c61777a-1f19-4ae1-9cf6-0169a0b1ae31"
   },
   "outputs": [
    {
     "name": "stdout",
     "output_type": "stream",
     "text": [
      "10\n"
     ]
    }
   ],
   "source": [
    "# Tulis kode Anda di bawah ini. Jangan lupa tekan Shift+Enter untuk mengeksekusi sel\n",
    "y = (3+2)*2\n",
    "print(y)"
   ]
  },
  {
   "cell_type": "markdown",
   "metadata": {
    "id": "3VunePNmbOo2"
   },
   "source": [
    "<details><summary>Klik di sini untuk solusinya</summary>\n",
    "\n",
    "```python\n",
    "10\n",
    "\n",
    "```\n",
    "\n",
    "</details>\n"
   ]
  },
  {
   "cell_type": "markdown",
   "metadata": {
    "id": "iq_kk2-wbOo3"
   },
   "source": [
    "<p>Berapa nilai <code>z</code> di mana <code>z = x + y</code>?</p>\n"
   ]
  },
  {
   "cell_type": "code",
   "execution_count": 21,
   "metadata": {
    "colab": {
     "base_uri": "https://localhost:8080/"
    },
    "executionInfo": {
     "elapsed": 427,
     "status": "ok",
     "timestamp": 1733148846996,
     "user": {
      "displayName": "Wijaya Putra",
      "userId": "02270621919654608290"
     },
     "user_tz": -540
    },
    "id": "EHU882PobOo3",
    "outputId": "37bb3d9d-85f1-4b5a-9ec4-54e01cd5d55d"
   },
   "outputs": [
    {
     "name": "stdout",
     "output_type": "stream",
     "text": [
      "17\n"
     ]
    }
   ],
   "source": [
    "# Tulis kode Anda di bawah ini. Jangan lupa tekan Shift+Enter untuk mengeksekusi sel\n",
    "z = x+y\n",
    "print(z)"
   ]
  },
  {
   "cell_type": "markdown",
   "metadata": {
    "id": "Nhd3cVmybOo4"
   },
   "source": [
    "<details><summary>Klik di sini untuk solusinya</summary>\n",
    "\n",
    "```python\n",
    "17\n",
    "\n",
    "```\n",
    "\n",
    "</details>\n"
   ]
  },
  {
   "cell_type": "markdown",
   "metadata": {
    "id": "AuwlBlnjzpIw"
   },
   "source": [
    "<h2 id=\"expressions\" align=\"center\">Collection of Objects</h2>\n",
    "\n",
    "Koleksi = suatu \"variabel\" yang digunakan untuk menyimpan banyak nilai.\n",
    "\n",
    "|Tipe Koleksi                      |Diskripsi     |Duplikat |\n",
    "|:------------------------------|:---------|:-----------|\n",
    "List = [ ] | berurut & dapat diubah| OK\n",
    "Set = { } | tidak berurut & tidak dapat diubah, namun Add/Remove OK | NO\n",
    "Tuple = ( ) | berurut & tidak dapat diubah. Lebih Cepat | OK\n",
    "Dictionary = {} | tidak berurut & dapat diubah (indexing) | NO\n",
    "\n"
   ]
  },
  {
   "cell_type": "markdown",
   "metadata": {
    "id": "aE5JiN59Oekw"
   },
   "source": [
    "### [LIST]"
   ]
  },
  {
   "cell_type": "markdown",
   "metadata": {
    "id": "xG-srvO21Fw3"
   },
   "source": [
    "Jenis koleksi pertama yang akan kita pelajari adalah yang paling sering kita gunakan: **LIST**.\n",
    "\n",
    "List adalah kumpulan objek yang **diurutkan** dan **dapat diubah**.\\\n",
    "Ada berbagai cara untuk membuat daftar."
   ]
  },
  {
   "cell_type": "code",
   "execution_count": 87,
   "metadata": {
    "colab": {
     "base_uri": "https://localhost:8080/"
    },
    "executionInfo": {
     "elapsed": 563,
     "status": "ok",
     "timestamp": 1733149104496,
     "user": {
      "displayName": "Wijaya Putra",
      "userId": "02270621919654608290"
     },
     "user_tz": -540
    },
    "id": "PABwTvC51Lbi",
    "outputId": "3e2c5f38-9c40-4736-88a2-93d2fbf74a60"
   },
   "outputs": [
    {
     "name": "stdout",
     "output_type": "stream",
     "text": [
      "[1, 2, 3, 4, 3, 2, 1]\n",
      "['1', '2', 1, 2]\n",
      "[]\n"
     ]
    }
   ],
   "source": [
    "# umumnya, gunakan tanda kurung siku [] untuk membuat list\n",
    "list1 = [1, 2, 3, 4, 3, 2, 1]\n",
    "list2 = list( (\"1\", \"2\", 1, 2) )\n",
    "list3 = [] # creates an empty list\n",
    "print(list1)\n",
    "print(list2)\n",
    "print(list3)"
   ]
  },
  {
   "cell_type": "markdown",
   "metadata": {
    "id": "YftpX5Jz1U_u"
   },
   "source": [
    "Karena daftar diurutkan, kita dapat memanggilnya berdasarkan indeks.\\\n",
    "Kami juga dapat mengurutkannya dalam beberapa urutan."
   ]
  },
  {
   "cell_type": "markdown",
   "metadata": {
    "id": "ZdERNkNx1cKo"
   },
   "source": [
    "Objek atau elemen dalam list dapat dipanggil dengan menggunakan index.\\\n",
    "Perhatikan bahwa **indeks Python dimulai dari 0**.\\\n",
    "**Elemen terakhir dapat diindeks sebagai -1**.\\\n",
    "<img src=\"https://www.aipython.in/wp-content/uploads/2020/02/Index_in_python-list.png\" width=\"660\" />"
   ]
  },
  {
   "cell_type": "code",
   "execution_count": 88,
   "metadata": {
    "colab": {
     "base_uri": "https://localhost:8080/"
    },
    "executionInfo": {
     "elapsed": 403,
     "status": "ok",
     "timestamp": 1733149411879,
     "user": {
      "displayName": "Wijaya Putra",
      "userId": "02270621919654608290"
     },
     "user_tz": -540
    },
    "id": "fj7nsIKS1T4i",
    "outputId": "51b50735-6648-44cd-a5a3-b6d34832f607"
   },
   "outputs": [
    {
     "name": "stdout",
     "output_type": "stream",
     "text": [
      "2\n",
      "[1, 1, 2, 2, 3, 3, 4]\n"
     ]
    }
   ],
   "source": [
    "print(list1[5])\n",
    "print(sorted(list1))"
   ]
  },
  {
   "cell_type": "markdown",
   "metadata": {
    "id": "L7RvMFkP1p3m"
   },
   "source": [
    "List bisa berubah, artinya kita bisa memodifikasi elemen di dalamnya.\\\n",
    "Kita dapat melakukan deklarasi langsung ke elemen yang diindeks, atau kita dapat meletakkan beberapa metode di sana."
   ]
  },
  {
   "cell_type": "code",
   "execution_count": 92,
   "metadata": {
    "colab": {
     "base_uri": "https://localhost:8080/"
    },
    "executionInfo": {
     "elapsed": 393,
     "status": "ok",
     "timestamp": 1733149576581,
     "user": {
      "displayName": "Wijaya Putra",
      "userId": "02270621919654608290"
     },
     "user_tz": -540
    },
    "id": "vlR30Th712Kc",
    "outputId": "a0929a65-34f9-4d1b-b7c0-17209ffa38ed"
   },
   "outputs": [
    {
     "data": {
      "text/plain": [
       "[1, 2, 3]"
      ]
     },
     "execution_count": 92,
     "metadata": {},
     "output_type": "execute_result"
    }
   ],
   "source": [
    "A = [1, 2, 3]\n",
    "A"
   ]
  },
  {
   "cell_type": "code",
   "execution_count": 93,
   "metadata": {
    "colab": {
     "base_uri": "https://localhost:8080/"
    },
    "executionInfo": {
     "elapsed": 378,
     "status": "ok",
     "timestamp": 1733149674438,
     "user": {
      "displayName": "Wijaya Putra",
      "userId": "02270621919654608290"
     },
     "user_tz": -540
    },
    "id": "ef7FmiwwwrEj",
    "outputId": "6e64ca2d-3591-4fa9-de20-8549c6ede9f0"
   },
   "outputs": [
    {
     "data": {
      "text/plain": [
       "[3, 2, 3]"
      ]
     },
     "execution_count": 93,
     "metadata": {},
     "output_type": "execute_result"
    }
   ],
   "source": [
    "A[0] = 3\n",
    "A"
   ]
  },
  {
   "cell_type": "markdown",
   "metadata": {
    "id": "wt4BMEbI2AY_"
   },
   "source": [
    "### {SET}\n",
    "\n",
    "Koleksi selanjutnya adalah *set*.\n",
    "\n",
    "Kumpulan adalah kumpulan objek yang **unordered** dan **unik**.\\\n",
    "Ada berbagai cara untuk membuat set."
   ]
  },
  {
   "cell_type": "code",
   "execution_count": null,
   "metadata": {
    "colab": {
     "base_uri": "https://localhost:8080/"
    },
    "executionInfo": {
     "elapsed": 6,
     "status": "ok",
     "timestamp": 1713962690369,
     "user": {
      "displayName": "Wijaya Putra",
      "userId": "02270621919654608290"
     },
     "user_tz": -540
    },
    "id": "kpDzso0H2DHz",
    "outputId": "8b36340b-130d-4347-ae77-4ad29dad1fd0"
   },
   "outputs": [
    {
     "name": "stdout",
     "output_type": "stream",
     "text": [
      "{1, 2, 'three', 4}\n",
      "{'1', 1, 2}\n",
      "{}\n",
      "<class 'tuple'>\n",
      "<class 'set'>\n"
     ]
    }
   ],
   "source": [
    "set1 = {\"three\", 1, 4, 2}\n",
    "a = (1, \"1\", 1, 2)\n",
    "set2 = set(a)\n",
    "set3 = {} # creates an empty set\n",
    "print(set1)\n",
    "print(set2)\n",
    "print(set3)\n",
    "print(type(a))\n",
    "print(type(set2))"
   ]
  },
  {
   "cell_type": "markdown",
   "metadata": {
    "id": "rsiBzxDT2K0x"
   },
   "source": [
    "Karena set adalah koleksi yang tidak diurutkan, kami tidak dapat memanggil elemen berdasarkan indeks."
   ]
  },
  {
   "cell_type": "code",
   "execution_count": null,
   "metadata": {
    "colab": {
     "base_uri": "https://localhost:8080/",
     "height": 144
    },
    "executionInfo": {
     "elapsed": 429,
     "status": "error",
     "timestamp": 1713962726104,
     "user": {
      "displayName": "Wijaya Putra",
      "userId": "02270621919654608290"
     },
     "user_tz": -540
    },
    "id": "DFHa3R_c2NE4",
    "outputId": "3e524d26-4179-4718-8a14-6385fa8ce84e"
   },
   "outputs": [
    {
     "ename": "TypeError",
     "evalue": "'set' object is not subscriptable",
     "output_type": "error",
     "traceback": [
      "\u001b[0;31m---------------------------------------------------------------------------\u001b[0m",
      "\u001b[0;31mTypeError\u001b[0m                                 Traceback (most recent call last)",
      "\u001b[0;32m<ipython-input-24-012ecff96aad>\u001b[0m in \u001b[0;36m<cell line: 1>\u001b[0;34m()\u001b[0m\n\u001b[0;32m----> 1\u001b[0;31m \u001b[0mprint\u001b[0m\u001b[0;34m(\u001b[0m\u001b[0mset1\u001b[0m\u001b[0;34m[\u001b[0m\u001b[0;36m2\u001b[0m\u001b[0;34m]\u001b[0m\u001b[0;34m)\u001b[0m\u001b[0;34m\u001b[0m\u001b[0;34m\u001b[0m\u001b[0m\n\u001b[0m",
      "\u001b[0;31mTypeError\u001b[0m: 'set' object is not subscriptable"
     ]
    }
   ],
   "source": [
    "print(set1[2])"
   ]
  },
  {
   "cell_type": "markdown",
   "metadata": {
    "id": "ZJjLKQyU2Yhw"
   },
   "source": [
    "Set bisa berubah: elemen di dalam set dapat dimodifikasi.\n",
    "\n",
    "Metode umum adalah .add(), .discard(), dan .clear()."
   ]
  },
  {
   "cell_type": "code",
   "execution_count": null,
   "metadata": {
    "colab": {
     "base_uri": "https://localhost:8080/"
    },
    "executionInfo": {
     "elapsed": 835,
     "status": "ok",
     "timestamp": 1713962793687,
     "user": {
      "displayName": "Wijaya Putra",
      "userId": "02270621919654608290"
     },
     "user_tz": -540
    },
    "id": "zpi6M5ma2Vgc",
    "outputId": "2c67e088-1eb9-45f8-b694-33d993633c34"
   },
   "outputs": [
    {
     "name": "stdout",
     "output_type": "stream",
     "text": [
      "{False, 3, 'ten', 5}\n",
      "{False, 3, 'ten', 5, 9}\n",
      "{False, 3, 'ten', 5, 9}\n",
      "{False, 3, 'ten', 5, 9, 'ab'}\n",
      "{False, 3, 5, 9, 'ab'}\n",
      "{False, 3, 5, 9, 'ab'}\n",
      "set()\n"
     ]
    }
   ],
   "source": [
    "set4 = {3, 5, \"ten\", False}\n",
    "print(set4)\n",
    "\n",
    "set4.add(9)\n",
    "print(set4)\n",
    "\n",
    "set4.add(3)\n",
    "print(set4)\n",
    "\n",
    "set4.add(\"ab\")\n",
    "print(set4)\n",
    "\n",
    "set4.discard(\"ten\")\n",
    "print(set4)\n",
    "\n",
    "set4.discard(\"huh?\")\n",
    "print(set4)\n",
    "\n",
    "set4.clear()\n",
    "print(set4)"
   ]
  },
  {
   "cell_type": "markdown",
   "metadata": {
    "id": "zoLjGxEi2jB5"
   },
   "source": [
    "### (Tuple)\n",
    "\n",
    "Koleksi selanjutnya adalah Tuple.\n",
    "Tuple adalah kumpulan objek yang dipesan dan tidak dapat diubah.\n",
    "Ada berbagai cara untuk membuat tuple.\n",
    "\n",
    "<img src=\"https://cf-courses-data.s3.us.cloud-object-storage.appdomain.cloud/IBMDeveloperSkillsNetwork-PY0101EN-SkillsNetwork/labs/Module%202/images/TuplesIndex.gif\" width=\"750\" align=\"center\">"
   ]
  },
  {
   "cell_type": "code",
   "execution_count": null,
   "metadata": {
    "colab": {
     "base_uri": "https://localhost:8080/"
    },
    "executionInfo": {
     "elapsed": 11,
     "status": "ok",
     "timestamp": 1713963044678,
     "user": {
      "displayName": "Wijaya Putra",
      "userId": "02270621919654608290"
     },
     "user_tz": -540
    },
    "id": "R6wBXmDXzoxs",
    "outputId": "2110c9bb-7aa8-49bc-a6be-e9795e3eb873"
   },
   "outputs": [
    {
     "name": "stdout",
     "output_type": "stream",
     "text": [
      "(1, 1, 2, 'three', 4)\n",
      "(1, True, 1, 'false')\n",
      "()\n"
     ]
    }
   ],
   "source": [
    "# umumnya, gunakan tanda kurung biasa () untuk membuat tuple\n",
    "tuple1 = (1,1, 2, \"three\", 4)\n",
    "tuple2 = tuple((1, True, 1, \"false\"))\n",
    "tuple3 = () # creates an empty tuple\n",
    "print(tuple1)\n",
    "print(tuple2)\n",
    "print(tuple3)"
   ]
  },
  {
   "cell_type": "markdown",
   "metadata": {
    "id": "-nLcYPZw250G"
   },
   "source": [
    "Tuple tidak dapat diubah.\n",
    "Setelah tuple dibuat, kita tidak dapat memodifikasinya."
   ]
  },
  {
   "cell_type": "code",
   "execution_count": null,
   "metadata": {
    "colab": {
     "base_uri": "https://localhost:8080/",
     "height": 180
    },
    "executionInfo": {
     "elapsed": 21,
     "status": "error",
     "timestamp": 1713963065513,
     "user": {
      "displayName": "Wijaya Putra",
      "userId": "02270621919654608290"
     },
     "user_tz": -540
    },
    "id": "ElcY092U3DJG",
    "outputId": "736c0e7f-ab96-4577-b6b7-cf3f7c9f93a8"
   },
   "outputs": [
    {
     "ename": "TypeError",
     "evalue": "'tuple' object does not support item assignment",
     "output_type": "error",
     "traceback": [
      "\u001b[0;31m---------------------------------------------------------------------------\u001b[0m",
      "\u001b[0;31mTypeError\u001b[0m                                 Traceback (most recent call last)",
      "\u001b[0;32m<ipython-input-28-1ff9637e2832>\u001b[0m in \u001b[0;36m<cell line: 2>\u001b[0;34m()\u001b[0m\n\u001b[1;32m      1\u001b[0m \u001b[0mtuple4\u001b[0m \u001b[0;34m=\u001b[0m \u001b[0;34m(\u001b[0m\u001b[0;34m'a'\u001b[0m\u001b[0;34m,\u001b[0m \u001b[0;34m'b'\u001b[0m\u001b[0;34m,\u001b[0m \u001b[0;34m'c'\u001b[0m\u001b[0;34m)\u001b[0m\u001b[0;34m\u001b[0m\u001b[0;34m\u001b[0m\u001b[0m\n\u001b[0;32m----> 2\u001b[0;31m \u001b[0mtuple4\u001b[0m\u001b[0;34m[\u001b[0m\u001b[0;36m0\u001b[0m\u001b[0;34m]\u001b[0m \u001b[0;34m=\u001b[0m \u001b[0;34m'A'\u001b[0m\u001b[0;34m\u001b[0m\u001b[0;34m\u001b[0m\u001b[0m\n\u001b[0m\u001b[1;32m      3\u001b[0m \u001b[0mprint\u001b[0m\u001b[0;34m(\u001b[0m\u001b[0mtuple4\u001b[0m\u001b[0;34m)\u001b[0m\u001b[0;34m\u001b[0m\u001b[0;34m\u001b[0m\u001b[0m\n",
      "\u001b[0;31mTypeError\u001b[0m: 'tuple' object does not support item assignment"
     ]
    }
   ],
   "source": [
    "tuple4 = ('a', 'b', 'c')\n",
    "tuple4[0] = 'A'\n",
    "print(tuple4)"
   ]
  },
  {
   "cell_type": "markdown",
   "metadata": {
    "id": "hxr6ocD03PuH"
   },
   "source": [
    "### {Dictionary}\n",
    "\n",
    "Koleksi selanjutnya adalah dictionary.\n",
    "Koleksi ini adalah pasangan key value dari objek.\n",
    "<img src=\"https://cf-courses-data.s3.us.cloud-object-storage.appdomain.cloud/IBMDeveloperSkillsNetwork-PY0101EN-SkillsNetwork/labs/Module%202/images/DictsList.png\" width=\"650\" />\n"
   ]
  },
  {
   "cell_type": "code",
   "execution_count": 96,
   "metadata": {
    "colab": {
     "base_uri": "https://localhost:8080/"
    },
    "executionInfo": {
     "elapsed": 574,
     "status": "ok",
     "timestamp": 1733149997834,
     "user": {
      "displayName": "Wijaya Putra",
      "userId": "02270621919654608290"
     },
     "user_tz": -540
    },
    "id": "Pp2IemSf3avf",
    "outputId": "a631c165-26fe-4ac3-d57c-2c8286732946"
   },
   "outputs": [
    {
     "name": "stdout",
     "output_type": "stream",
     "text": [
      "Monkey D. Luffy\n",
      "usia  19\n"
     ]
    }
   ],
   "source": [
    "# dictionary juga menggunakan kurung kurawal {} untuk dibuat\n",
    "\n",
    "luffy = {\n",
    "    \"Full Name\": \"Monkey D. Luffy\",\n",
    "    \"Nama panggilan\":\"Luffy\",\n",
    "    \"Occupation\": \"Pirate\",\n",
    "    \"Age\": 19,\n",
    "    \"Origin\": \"East Blue\"\n",
    "}\n",
    "\n",
    "print(luffy[\"Full Name\"])\n",
    "print(\"usia \",str(luffy[\"Age\"]))"
   ]
  },
  {
   "cell_type": "markdown",
   "metadata": {
    "id": "1fgBM01f4HF7"
   },
   "source": [
    "# Mini TASK\n",
    "\n",
    "Buatlah Biodata diri selengkap mungkin dengan menggunakan Dictionary. Kemudian coba dengan menggunakan key, tampilkan nama panggilan Anda!"
   ]
  }
 ],
 "metadata": {
  "colab": {
   "provenance": []
  },
  "kernelspec": {
   "display_name": "Python 3",
   "language": "python",
   "name": "python3"
  },
  "language_info": {
   "codemirror_mode": {
    "name": "ipython",
    "version": 3
   },
   "file_extension": ".py",
   "mimetype": "text/x-python",
   "name": "python",
   "nbconvert_exporter": "python",
   "pygments_lexer": "ipython3",
   "version": "3.13.0"
  }
 },
 "nbformat": 4,
 "nbformat_minor": 0
}
